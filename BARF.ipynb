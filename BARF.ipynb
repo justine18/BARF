{
 "cells": [
  {
   "attachments": {},
   "cell_type": "markdown",
   "id": "efc9f670",
   "metadata": {},
   "source": [
    "# BARF Plan according to Nadine Wolf - Das BARF Buch"
   ]
  },
  {
   "cell_type": "code",
   "execution_count": null,
   "metadata": {},
   "outputs": [],
   "source": [
    "# Install dependencies\n",
    "! pip install -q gamspy"
   ]
  },
  {
   "cell_type": "code",
   "execution_count": 508,
   "id": "d45bc7e5",
   "metadata": {
    "scrolled": true
   },
   "outputs": [],
   "source": [
    "# Import packages\n",
    "import pandas as pd\n",
    "from gamspy import Equation, Model, Container, Sum, Sense, Options"
   ]
  },
  {
   "cell_type": "code",
   "execution_count": 509,
   "metadata": {
    "tags": [
     "hide-input"
    ]
   },
   "outputs": [],
   "source": [
    "# prepare notebook\n",
    "class Product:\n",
    "    def __init__(self, name, price, volume, fat, category,\n",
    "                 muscle=0, lung=0, liver=0, kidney=0, spleen=0, heart=0,\n",
    "                 fish=0, pansen=0, blaettermagen=0, rfk=0, vegetable=0, fruit=0, inventory=0):\n",
    "        self.name = name\n",
    "        self.price = price\n",
    "        self.volume = volume\n",
    "        self.fat = fat\n",
    "        self.category = category\n",
    "        self.inventory = inventory\n",
    "        self.muscle = muscle\n",
    "        self.fish = fish\n",
    "        self.liver = liver\n",
    "        self.lung = lung\n",
    "        self.kidney = kidney\n",
    "        self.spleen = spleen\n",
    "        self.heart = heart\n",
    "        self.pansen = pansen\n",
    "        self.blaettermagen = blaettermagen\n",
    "        self.rfk = rfk\n",
    "        self.vegetable = vegetable\n",
    "        self.fruit = fruit\n",
    "        self.price_per_kg = self.calc_price_per_kg()\n",
    "        self.composition = {\n",
    "            'Muscle': muscle + fish,\n",
    "            'Intestinals': liver + lung + kidney + spleen + heart,\n",
    "            'Pansen': pansen,\n",
    "            'Blättermagen': blaettermagen,\n",
    "            'RFK': rfk,\n",
    "            'Vegetable': vegetable,\n",
    "            'Fruit': fruit\n",
    "        }\n",
    "\n",
    "    def calc_price_per_kg(self):\n",
    "        return round((self.price / self.volume) * 1000, 2)\n",
    "\n",
    "\n",
    "def process_products(products, comp):\n",
    "    df = pd.DataFrame({\n",
    "        'Name': [p.name for p in products], 'Category': [p.category for p in products],\n",
    "        'Inventory': [p.inventory for p in products],\n",
    "        'Price [€/kg]': [p.price_per_kg for p in products], 'Price': [p.price for p in products],\n",
    "        'Volume': [p.volume for p in products], 'Fat': [p.fat for p in products]\n",
    "    })\n",
    "\n",
    "    cont_comp = pd.DataFrame([[c, p.name, p.composition[c]]\n",
    "                             for c in comp.index for p in products], columns=['Component', 'Name', 'Share'])\n",
    "\n",
    "    a = []\n",
    "    for p in products:\n",
    "        a.append(['Liver', p.name, p.liver])\n",
    "        a.append(['Heart', p.name, p.heart])\n",
    "        a.append(['Kidney', p.name, p.kidney])\n",
    "        a.append(['Spleen', p.name, p.spleen])\n",
    "        a.append(['Lung', p.name, p.lung])\n",
    "    int_comp = pd.DataFrame(a)\n",
    "\n",
    "    return df, cont_comp, int_comp\n",
    "\n",
    "\n",
    "def check_components(df):\n",
    "    assert df['Share'].sum() == 2, 'Components do not add up to 100%'\n",
    "\n",
    "\n",
    "def calc_demand(mod, comp, weeklydemand):\n",
    "    share = pd.DataFrame([\n",
    "        ['Muscle', mod['Meat']],\n",
    "        ['Intestinals', mod['Meat']],\n",
    "        ['Pansen', mod['Meat']],\n",
    "        ['Blättermagen', mod['Meat']],\n",
    "        ['RFK', mod['Meat']],\n",
    "        ['Vegetable', mod['Veg & Fruit']],\n",
    "        ['Fruit', mod['Veg & Fruit']]\n",
    "    ], columns=['Component', 'Share']).set_index('Component')\n",
    "\n",
    "    comp_pie = share * comp\n",
    "    demand = comp_pie * weeklydemand\n",
    "\n",
    "    return comp_pie, demand.dropna()\n",
    "\n",
    "\n",
    "# inventory\n",
    "def add_inventory(df, product, inventory):\n",
    "    assert df['Name'].isin([product]).any(), f'{product} not in DataFrame'\n",
    "    df.loc[df['Name'] == product, 'Inventory'] = inventory\n"
   ]
  },
  {
   "cell_type": "markdown",
   "id": "4d73275e",
   "metadata": {},
   "source": [
    "## Data\n",
    "### Planning Horizon\n",
    "- `weeks`: number of weeks to account for"
   ]
  },
  {
   "cell_type": "code",
   "execution_count": 510,
   "id": "a3045729",
   "metadata": {},
   "outputs": [],
   "source": [
    "weeks = 6"
   ]
  },
  {
   "attachments": {},
   "cell_type": "markdown",
   "id": "e00b8e01",
   "metadata": {},
   "source": [
    "### Daily Food Demand\n",
    "The daily food demand is determined by three components: \n",
    "- body weight (`weight`)\n",
    "- base food ratio (`perc`)\n",
    "- activity level (`activity`).\n",
    "\n",
    "The body weight represents the targeted and ideal body weight of the dog. The base food ratio is usually calculated with 2% from the optimal body weight. The activity level is usually set as follows:\n",
    "\n",
    "| Activity per day | Factor |\n",
    "| --- | --- |\n",
    "| <2 h | 1 |\n",
    "| 2-3 h | 1.25 |\n",
    "| 3-4 h | 1.5 |\n",
    "| 4-5 h | 1.75 |\n",
    "| 5-6 h | 2.5 |\n",
    "| >6 h | 2.5 | \n",
    "\n",
    "A neutered dog requires less food. Usually the activity level is set to 0.9 for neutered dogs.\n",
    "\n",
    "On a side note: The activity level can vary from dog to dog. Adjust the activity level by regularly checking the body weight until you find a configuration where the dog remains around the optimal weight."
   ]
  },
  {
   "cell_type": "code",
   "execution_count": 511,
   "id": "cc6a467b",
   "metadata": {},
   "outputs": [
    {
     "name": "stdout",
     "output_type": "stream",
     "text": [
      "Daily food demand: 700 g\n",
      "Weekly food demand: 4900 g\n"
     ]
    }
   ],
   "source": [
    "weight = 35\n",
    "perc =  0.02 # percent of body weight \n",
    "activity = 1 # dog activity level \n",
    "\n",
    "daylydemand = weight * perc * activity * 1000\n",
    "weeklydemand = daylydemand * 7\n",
    "\n",
    "print('Daily food demand:', round(daylydemand), 'g')\n",
    "print('Weekly food demand:', round(weeklydemand), 'g')"
   ]
  },
  {
   "cell_type": "markdown",
   "id": "029933f3",
   "metadata": {},
   "source": [
    "### Fat\n",
    "Fat is the main energy source for a dog. The optimal amount of fat in a food ratio is between 11% and 15%, where 11% is optimal for a regular dog and up to 15% is optimal for active dogs."
   ]
  },
  {
   "cell_type": "code",
   "execution_count": null,
   "id": "6084c08f",
   "metadata": {},
   "outputs": [],
   "source": [
    "fat_lb = 0.10 # lower bound of fat\n",
    "fat_ub = 0.11 # upper bound of fat"
   ]
  },
  {
   "cell_type": "markdown",
   "id": "3fd69bc3",
   "metadata": {},
   "source": [
    "### Food Components\n",
    "An optimal BARF ration withouth grain consists of 80% animal components (`Meat`) and 20% plant-based components (`Veg & Fruit`). \n"
   ]
  },
  {
   "cell_type": "code",
   "execution_count": 513,
   "id": "77044883",
   "metadata": {},
   "outputs": [],
   "source": [
    "modules_share = {\n",
    "    'Meat': 0.8,\n",
    "    'Veg & Fruit': 0.2\n",
    "}"
   ]
  },
  {
   "cell_type": "markdown",
   "id": "20970779",
   "metadata": {},
   "source": [
    "The meat share is ideally composed as:\n",
    "- 50% muscle meat\n",
    "- 20% pansen / blättermagen\n",
    "- 15% intestinals (heart, liver, kidney, spleen)\n",
    "- 15% raw flesh bones (not bare bones - rather 1/2 bone, 1/2 meat) - RFK\n",
    "\n",
    "If the dog does not tolerate pansen, you substitute with muscle meat.\n",
    "\n",
    "RFK can be hard and soft. Hard bones are, e.g., sternum and rips of lamb and cow. Soft bones are, e.g., spine, neck, and chest of chicken and rabbit. \n",
    "\n",
    "Some dogs tend to throw up bigger pieces of hard bones at night. Soft bones are easier to digest. If you only feed soft bones the RFK share is increased to 20% and the muscle share decreased to 45%. \n",
    "\n",
    "The vegtable share is ideally composed as:\n",
    "- 75% vegetables\n",
    "- 25% fruits"
   ]
  },
  {
   "cell_type": "code",
   "execution_count": 514,
   "id": "c3be7e6c",
   "metadata": {},
   "outputs": [
    {
     "data": {
      "application/vnd.microsoft.datawrangler.viewer.v0+json": {
       "columns": [
        {
         "name": "Component",
         "rawType": "object",
         "type": "string"
        },
        {
         "name": "Share",
         "rawType": "float64",
         "type": "float"
        }
       ],
       "conversionMethod": "pd.DataFrame",
       "ref": "1ea706c0-789c-46d9-8ddc-c7d7ca8ba7a7",
       "rows": [
        [
         "Fruit",
         "245.00000000000006"
        ],
        [
         "Intestinals",
         "588.0000000000001"
        ],
        [
         "Muscle",
         "2744.0"
        ],
        [
         "RFK",
         "588.0000000000001"
        ],
        [
         "Vegetable",
         "735.0000000000002"
        ]
       ],
       "shape": {
        "columns": 1,
        "rows": 5
       }
      },
      "text/html": [
       "<div>\n",
       "<style scoped>\n",
       "    .dataframe tbody tr th:only-of-type {\n",
       "        vertical-align: middle;\n",
       "    }\n",
       "\n",
       "    .dataframe tbody tr th {\n",
       "        vertical-align: top;\n",
       "    }\n",
       "\n",
       "    .dataframe thead th {\n",
       "        text-align: right;\n",
       "    }\n",
       "</style>\n",
       "<table border=\"1\" class=\"dataframe\">\n",
       "  <thead>\n",
       "    <tr style=\"text-align: right;\">\n",
       "      <th></th>\n",
       "      <th>Share</th>\n",
       "    </tr>\n",
       "    <tr>\n",
       "      <th>Component</th>\n",
       "      <th></th>\n",
       "    </tr>\n",
       "  </thead>\n",
       "  <tbody>\n",
       "    <tr>\n",
       "      <th>Fruit</th>\n",
       "      <td>245.0</td>\n",
       "    </tr>\n",
       "    <tr>\n",
       "      <th>Intestinals</th>\n",
       "      <td>588.0</td>\n",
       "    </tr>\n",
       "    <tr>\n",
       "      <th>Muscle</th>\n",
       "      <td>2744.0</td>\n",
       "    </tr>\n",
       "    <tr>\n",
       "      <th>RFK</th>\n",
       "      <td>588.0</td>\n",
       "    </tr>\n",
       "    <tr>\n",
       "      <th>Vegetable</th>\n",
       "      <td>735.0</td>\n",
       "    </tr>\n",
       "  </tbody>\n",
       "</table>\n",
       "</div>"
      ],
      "text/plain": [
       "              Share\n",
       "Component          \n",
       "Fruit         245.0\n",
       "Intestinals   588.0\n",
       "Muscle       2744.0\n",
       "RFK           588.0\n",
       "Vegetable     735.0"
      ]
     },
     "execution_count": 514,
     "metadata": {},
     "output_type": "execute_result"
    }
   ],
   "source": [
    "component_share = pd.DataFrame([\n",
    "    ['Muscle', 0.7],\n",
    "    ['Intestinals', 0.15],\n",
    "    # ['Pansen', 0 / 2],\n",
    "    # ['Blättermagen', 0 / 2],\n",
    "    ['RFK', 0.15],\n",
    "    ['Vegetable', 0.75],\n",
    "    ['Fruit', 0.25]\n",
    "], columns=['Component', 'Share']).set_index('Component')\n",
    "\n",
    "# check if components add up to 100%\n",
    "check_components(component_share)\n",
    "\n",
    "# calc demand\n",
    "components_pie_chart, demand_df = calc_demand(modules_share, component_share, weeklydemand)\n",
    "\n",
    "demand_df"
   ]
  },
  {
   "cell_type": "code",
   "execution_count": 515,
   "id": "a689539b",
   "metadata": {},
   "outputs": [
    {
     "data": {
      "text/plain": [
       "<Axes: title={'center': 'Components'}, ylabel='Share'>"
      ]
     },
     "execution_count": 515,
     "metadata": {},
     "output_type": "execute_result"
    },
    {
     "data": {
      "image/png": "[encoded data removed]",
      "text/plain": [
       "<Figure size 640x480 with 1 Axes>"
      ]
     },
     "metadata": {},
     "output_type": "display_data"
    }
   ],
   "source": [
    "# plot components\n",
    "components_pie_chart.plot(kind='pie', y='Share', title='Components', legend=False)"
   ]
  },
  {
   "cell_type": "markdown",
   "id": "eeee3241",
   "metadata": {},
   "source": [
    "### Intestinals\n",
    "The optimal composition of intestinals:\n",
    "- $\\frac{2}{5}$ liver\n",
    "- $\\frac{1}{5}$ heart\n",
    "- $\\frac{1}{5}$ kidney\n",
    "- $\\frac{1}{5}$ spleen"
   ]
  },
  {
   "cell_type": "code",
   "execution_count": null,
   "id": "3bf52da5",
   "metadata": {},
   "outputs": [
    {
     "data": {
      "text/plain": [
       "<Axes: title={'center': 'Intestinals'}, ylabel='Share'>"
      ]
     },
     "execution_count": 516,
     "metadata": {},
     "output_type": "execute_result"
    },
    {
     "data": {
      "image/png": "[encoded data removed]",
      "text/plain": [
       "<Figure size 640x480 with 1 Axes>"
      ]
     },
     "metadata": {},
     "output_type": "display_data"
    }
   ],
   "source": [
    "intestinal_share_df = pd.DataFrame([\n",
    "    ['Liver', 1/5],\n",
    "    ['Heart', 1/5],\n",
    "    ['Kidney', 1/5],\n",
    "    ['Spleen', 1/5],\n",
    "    ['Lung', 1/5]\n",
    "], columns=['Intestinal', 'Share']).set_index('Intestinal')\n",
    "intestinal_share_df.plot(kind='pie', y='Share', title='Intestinals', legend=False)"
   ]
  },
  {
   "cell_type": "markdown",
   "id": "53ce93e0",
   "metadata": {},
   "source": [
    "### Fish\n",
    "Fisch ist ein wichtiger Bestandteil der BARF Ration, um den Vitamin D Haushalt zu decken. Es wird empfohlen 1x pro Woche den Muskelfleischanteil durch Fisch zu ersetzen. Dazu eignen sich insbesondere Vitamin D haltige Fische wie Sprotten, Hering, Lachs, Sardellen und Forelle. "
   ]
  },
  {
   "cell_type": "code",
   "execution_count": 517,
   "id": "eec36c9b",
   "metadata": {},
   "outputs": [
    {
     "name": "stdout",
     "output_type": "stream",
     "text": [
      "The suggested amount of fish per week is 560g.\n"
     ]
    }
   ],
   "source": [
    "weekly_fish_amount = round(daylydemand * modules_share['Meat'])\n",
    "print(f'The suggested amount of fish per week is {weekly_fish_amount}g.')"
   ]
  },
  {
   "cell_type": "markdown",
   "id": "ae5b563b",
   "metadata": {},
   "source": [
    "You can manually adjust the amount of fish if desired. If you do not want to feed fish, set `weekly_fish_amount` to 0. In this case, remember to substitute fish with Lebertran to supply enough vitamin D. "
   ]
  },
  {
   "cell_type": "code",
   "execution_count": 518,
   "id": "709d0dd6",
   "metadata": {},
   "outputs": [],
   "source": [
    "# adjusted fish amount\n",
    "weekly_fish_amount = 500"
   ]
  },
  {
   "cell_type": "markdown",
   "id": "9717f859",
   "metadata": {},
   "source": [
    "## Products"
   ]
  },
  {
   "cell_type": "code",
   "execution_count": 519,
   "id": "5bc7bc45",
   "metadata": {},
   "outputs": [],
   "source": [
    "products = [\n",
    "    # Product(name='AllesVomRind', category='Beef', volume=1000, price=6.95, muscle=0.5, pansen=0.1, blaettermagen=0.1, liver=0.15*.34, kidney=0.15*.17, heart=0.15*0.17, spleen=0.15*.16, lung=0.15*0.16, rfk=0.15, fat=0.124),\n",
    "    # Product(name='AllesVomLamm', category='Lamb', volume=1000, price=8.15, muscle=0.54, pansen=0.11, blaettermagen=0.11, liver=0.18*.34, kidney=0.18*.17, heart=0.18*0.17, spleen=0.18*.16, lung=0.18*0.16, rfk=0.15, fat=0.185),\n",
    "    # Product(name='AllesVomHuhn', category='Chicken', volume=1000, price=6.55, muscle=0.65, liver=.1, heart=0.05, rfk=0.2, fat=0.13),\n",
    "    # Product(name='AllesVomPferd', category='Horse', volume=1000, price=9.49, muscle=0.55+0.2, liver=0.2*0.15, heart=0.2*0.15, kidney=0.2*0.15, spleen=0.2*0.15, lung=0.2*0.15, rfk=0.1, fat=0.13),\n",
    "    \n",
    "    # Beef\n",
    "    # Product(name='RindermuskelfleischDurchwachsen', category='Beef', volume=1000, price=8.75, muscle=1, fat=0.283),\n",
    "    # Product(name='Ochsenmaul', category='Beef', volume=1000, price=5.15, muscle=1, fat=0.03),\n",
    "    # Product(name='Rinderinnereienmix', category='Beef', volume=1000, price=6.15, liver=0.34, kidney=0.17, heart=0.17, spleen=0.16, muscle=0.16, fat=0.054),\n",
    "    # Product(name='Rinderpansen', category='Beef', volume=1000, price=3.75, pansen=1, fat=0.099),\n",
    "    # Product(name='Blättermagen', category='Beef', volume=1000, price=3.75, blaettermagen=1, fat=0.059),\n",
    "    # Product(name='Rinderherz', category='Beef', volume=1000, price=6.15, heart=1, fat=0.059),\n",
    "    # Product(name='Kalbsmilz', category='Beef', volume=500, price=2.95, spleen=1, fat=0.044),\n",
    "    # Product(name='Rinderniere', category='Beef', volume=500, price=3.45, kidney=1, fat=0.115),\n",
    "    # Product(name='Rinderleber', category='Beef', volume=500, price=3.55, liver=1, fat=0.041),\n",
    "    # Product(name='Rinderlunge', category='Beef', volume=500, price=3.55, lung=1, fat=0.02),\n",
    "\n",
    "    # Horse\n",
    "    Product(name='Pferdemuskelfleisch', category='Horse', volume=1000, price=9.99, muscle=1, fat=0.046),\n",
    "    Product(name='Pferdeinnereienmix', category='Horse', volume=1000, price=8.79, liver=1/5, kidney=1/5, heart=1/5, spleen=1/5, lung=1/5, fat=0.075),\n",
    "    Product(name='Pferdeherzen', category='Horse', volume=1000, price=8.29, heart=1, fat=0.04),\n",
    "\n",
    "    # Chicken\n",
    "    # Product(name='Huehnermuskelfleisch', category='Chicken', volume=1000, price=7.55, muscle=1, fat=0.022),\n",
    "    # Product(name='Putenmuskelfleisch ', category='Chicken', volume=1000, price=7.55, muscle=1, fat=0.22),\n",
    "\n",
    "    # Lamb\n",
    "    # Product(name='Lammmuskelfleisch ', category='Lamb', volume=1000, price=9.59, muscle=1, fat=0.257),\n",
    "\n",
    "    # # RFK\n",
    "    # Product(name='Huehnerherzen', category='Chicken', volume=500, price=3.95, heart=1, fat=0.075),\n",
    "    # Product(name='Putenhälse', category='Chicken', volume=1000, price=4.95, rfk=1, fat=0.11),\n",
    "    # Product(name='Hühnerhälse', category='Chicken', volume=1000, price=4.55, rfk=1, fat=0.077),\n",
    "    # Product(name='Entenhälse', category='Chicken', volume=1000, price=4.95, rfk=1, fat=0.108),\n",
    "    # Product(name='Lammrippenknochen', category='Lamb', volume=1000, price=4.75, rfk=1, fat=0.032),\n",
    "    # Product(name='Kalbsbrustbeinknochen', category='Beef', volume=1000, price=3.95, rfk=1, fat=0.418),\n",
    "    Product(name='Pferdenackenknochen', category='Horse', volume=1000, price=7.69, rfk=1, fat=0.036),\n",
    "\n",
    "    # Fett\n",
    "    # Product(name='Lammfett', category='Lamb', volume=500, price=3.65, muscle=1, fat=0.638),\n",
    "    Product(name='Pferdefett', category='Horse', volume=500, price=4.05, muscle=1, fat=0.628),\n",
    "    # Product(name='Rinderfett', category='Beef', volume=500, price=4.25, muscle=1, fat=0.812),\n",
    "    # Product(name='Hühnerfett', category='Chicken', volume=500, price=2.95, muscle=1, fat=0.795),\n",
    "\n",
    "    Product(name='Lachs', category='Fish', volume=500, price=4.95, muscle=1, fat=0.248),\n",
    "    \n",
    "    # Haustier\n",
    "    # Product(name='HuehnerhaelseH', category='Chicken', volume=1000, price=3.99, rfk=1, fat=0.22),\n",
    "    # Product(name='HuehnerfettH', category='Chicken',  volume=1000, price=3.99, muscle=1, fat=0.995),\n",
    "    # Product(name='HuehnerfleischH', category='Chicken', volume=1000, price=8.99, muscle=1, fat=0.142),\n",
    "    # Product(name='RinderfettH', category='Beef', volume=500, price=2.98, muscle=1, fat=0.91),\n",
    "    # Product(name='RindermuskelfleischwuerfelH', category='Beef', volume=500, price=4.29, muscle=1, fat=0.09),\n",
    "    # Product(name='RindermilzWuerfelH', category='Beef', volume=500, price=2.49, spleen=1, fat=0.051),\n",
    "    # Product(name='RinderleberAmStueckH', category='Beef', volume=500, price=2.49, liver=1, fat=0.085),\n",
    "    # Product(name='RindfleischKlumpenH', category='Beef', volume=2000, price=16.99, muscle=1, fat=0.12),\n",
    "\n",
    "    # Vegetable & Fruit\n",
    "    Product(name='Vegetables', category='Vegetables', volume=1, price=0.001, vegetable=1, fat=0),\n",
    "    Product(name='Fruit', category='Fruits', volume=1, price=0.001, fruit=1, fat=0)\n",
    "] \n",
    "\n",
    "df, content_components_df, intest_components_df = process_products(products, component_share)"
   ]
  },
  {
   "cell_type": "markdown",
   "id": "4e48c6e1",
   "metadata": {},
   "source": [
    "## Inventory\n",
    "Account for the products you have in your inventory."
   ]
  },
  {
   "cell_type": "code",
   "execution_count": 520,
   "id": "90d1ec80",
   "metadata": {},
   "outputs": [
    {
     "data": {
      "application/vnd.microsoft.datawrangler.viewer.v0+json": {
       "columns": [
        {
         "name": "Name",
         "rawType": "object",
         "type": "string"
        },
        {
         "name": "Category",
         "rawType": "object",
         "type": "string"
        },
        {
         "name": "Inventory",
         "rawType": "int64",
         "type": "integer"
        },
        {
         "name": "Price [€/kg]",
         "rawType": "float64",
         "type": "float"
        },
        {
         "name": "Price",
         "rawType": "float64",
         "type": "float"
        },
        {
         "name": "Volume",
         "rawType": "int64",
         "type": "integer"
        },
        {
         "name": "Fat",
         "rawType": "float64",
         "type": "float"
        }
       ],
       "conversionMethod": "pd.DataFrame",
       "ref": "025cf472-abb7-4dd6-9261-087f7b5385f6",
       "rows": [
        [
         "Vegetables",
         "Vegetables",
         "0",
         "1.0",
         "0.001",
         "1",
         "0.0"
        ],
        [
         "Fruit",
         "Fruits",
         "0",
         "1.0",
         "0.001",
         "1",
         "0.0"
        ],
        [
         "Pferdenackenknochen",
         "Horse",
         "0",
         "7.69",
         "7.69",
         "1000",
         "0.036"
        ],
        [
         "Pferdefett",
         "Horse",
         "400",
         "8.1",
         "4.05",
         "500",
         "0.628"
        ],
        [
         "Pferdeherzen",
         "Horse",
         "0",
         "8.29",
         "8.29",
         "1000",
         "0.04"
        ],
        [
         "Pferdeinnereienmix",
         "Horse",
         "0",
         "8.79",
         "8.79",
         "1000",
         "0.075"
        ],
        [
         "Lachs",
         "Fish",
         "0",
         "9.9",
         "4.95",
         "500",
         "0.248"
        ],
        [
         "Pferdemuskelfleisch",
         "Horse",
         "0",
         "9.99",
         "9.99",
         "1000",
         "0.046"
        ]
       ],
       "shape": {
        "columns": 6,
        "rows": 8
       }
      },
      "text/html": [
       "<div>\n",
       "<style scoped>\n",
       "    .dataframe tbody tr th:only-of-type {\n",
       "        vertical-align: middle;\n",
       "    }\n",
       "\n",
       "    .dataframe tbody tr th {\n",
       "        vertical-align: top;\n",
       "    }\n",
       "\n",
       "    .dataframe thead th {\n",
       "        text-align: right;\n",
       "    }\n",
       "</style>\n",
       "<table border=\"1\" class=\"dataframe\">\n",
       "  <thead>\n",
       "    <tr style=\"text-align: right;\">\n",
       "      <th></th>\n",
       "      <th>Category</th>\n",
       "      <th>Inventory</th>\n",
       "      <th>Price [€/kg]</th>\n",
       "      <th>Price</th>\n",
       "      <th>Volume</th>\n",
       "      <th>Fat</th>\n",
       "    </tr>\n",
       "    <tr>\n",
       "      <th>Name</th>\n",
       "      <th></th>\n",
       "      <th></th>\n",
       "      <th></th>\n",
       "      <th></th>\n",
       "      <th></th>\n",
       "      <th></th>\n",
       "    </tr>\n",
       "  </thead>\n",
       "  <tbody>\n",
       "    <tr>\n",
       "      <th>Vegetables</th>\n",
       "      <td>Vegetables</td>\n",
       "      <td>0</td>\n",
       "      <td>1.00</td>\n",
       "      <td>0.001</td>\n",
       "      <td>1</td>\n",
       "      <td>0.000</td>\n",
       "    </tr>\n",
       "    <tr>\n",
       "      <th>Fruit</th>\n",
       "      <td>Fruits</td>\n",
       "      <td>0</td>\n",
       "      <td>1.00</td>\n",
       "      <td>0.001</td>\n",
       "      <td>1</td>\n",
       "      <td>0.000</td>\n",
       "    </tr>\n",
       "    <tr>\n",
       "      <th>Pferdenackenknochen</th>\n",
       "      <td>Horse</td>\n",
       "      <td>0</td>\n",
       "      <td>7.69</td>\n",
       "      <td>7.690</td>\n",
       "      <td>1000</td>\n",
       "      <td>0.036</td>\n",
       "    </tr>\n",
       "    <tr>\n",
       "      <th>Pferdefett</th>\n",
       "      <td>Horse</td>\n",
       "      <td>400</td>\n",
       "      <td>8.10</td>\n",
       "      <td>4.050</td>\n",
       "      <td>500</td>\n",
       "      <td>0.628</td>\n",
       "    </tr>\n",
       "    <tr>\n",
       "      <th>Pferdeherzen</th>\n",
       "      <td>Horse</td>\n",
       "      <td>0</td>\n",
       "      <td>8.29</td>\n",
       "      <td>8.290</td>\n",
       "      <td>1000</td>\n",
       "      <td>0.040</td>\n",
       "    </tr>\n",
       "    <tr>\n",
       "      <th>Pferdeinnereienmix</th>\n",
       "      <td>Horse</td>\n",
       "      <td>0</td>\n",
       "      <td>8.79</td>\n",
       "      <td>8.790</td>\n",
       "      <td>1000</td>\n",
       "      <td>0.075</td>\n",
       "    </tr>\n",
       "    <tr>\n",
       "      <th>Lachs</th>\n",
       "      <td>Fish</td>\n",
       "      <td>0</td>\n",
       "      <td>9.90</td>\n",
       "      <td>4.950</td>\n",
       "      <td>500</td>\n",
       "      <td>0.248</td>\n",
       "    </tr>\n",
       "    <tr>\n",
       "      <th>Pferdemuskelfleisch</th>\n",
       "      <td>Horse</td>\n",
       "      <td>0</td>\n",
       "      <td>9.99</td>\n",
       "      <td>9.990</td>\n",
       "      <td>1000</td>\n",
       "      <td>0.046</td>\n",
       "    </tr>\n",
       "  </tbody>\n",
       "</table>\n",
       "</div>"
      ],
      "text/plain": [
       "                       Category  Inventory  Price [€/kg]  Price  Volume    Fat\n",
       "Name                                                                          \n",
       "Vegetables           Vegetables          0          1.00  0.001       1  0.000\n",
       "Fruit                    Fruits          0          1.00  0.001       1  0.000\n",
       "Pferdenackenknochen       Horse          0          7.69  7.690    1000  0.036\n",
       "Pferdefett                Horse        400          8.10  4.050     500  0.628\n",
       "Pferdeherzen              Horse          0          8.29  8.290    1000  0.040\n",
       "Pferdeinnereienmix        Horse          0          8.79  8.790    1000  0.075\n",
       "Lachs                      Fish          0          9.90  4.950     500  0.248\n",
       "Pferdemuskelfleisch       Horse          0          9.99  9.990    1000  0.046"
      ]
     },
     "execution_count": 520,
     "metadata": {},
     "output_type": "execute_result"
    }
   ],
   "source": [
    "# 08.04.2025\n",
    "add_inventory(df, 'Pferdefett', 400)\n",
    "# add_inventory(df, 'Rinderinnereienmix', 500)\n",
    "# add_inventory(df, 'RindermuskelfleischDurchwachsen', 100)\n",
    "# add_inventory(df, 'Blättermagen', 750)\n",
    "# # add_inventory(df, 'Rinderpansen', 750)\n",
    "# add_inventory(df, 'Kalbsbrustbeinknochen', 300)\n",
    "# add_inventory(df, 'Hühnerfett', 150)\n",
    "# add_inventory(df, 'Lammrippenknochen', 500)\n",
    "# # add_inventory(df, 'Huehnermuskelfleisch', 600)\n",
    "# add_inventory(df, 'Rinderleber', 150)\n",
    "# # add_inventory(df, 'Rinderlunge', 50)\n",
    "# add_inventory(df, 'Kalbsmilz', 200)\n",
    "# add_inventory(df, 'Rinderniere', 200)\n",
    "# add_inventory(df, 'AllesVomLamm', 150)\n",
    "# add_inventory(df, 'Lachs', 1*500)\n",
    "\n",
    "df.sort_values(by='Price [€/kg]').set_index('Name')"
   ]
  },
  {
   "cell_type": "markdown",
   "id": "d6e00738",
   "metadata": {},
   "source": [
    "Validate input data"
   ]
  },
  {
   "cell_type": "code",
   "execution_count": 521,
   "id": "abce2e6d",
   "metadata": {},
   "outputs": [],
   "source": [
    "assert 'Fish' in df['Category'].values, 'No fish in products'\n",
    "for c in component_share.index:\n",
    "    assert content_components_df[['Component', 'Share']].groupby('Component').sum().loc[c]['Share'] > 0, f'No {c} in products'"
   ]
  },
  {
   "cell_type": "code",
   "execution_count": 522,
   "id": "2b278a5d",
   "metadata": {},
   "outputs": [
    {
     "data": {
      "application/vnd.microsoft.datawrangler.viewer.v0+json": {
       "columns": [
        {
         "name": "Component",
         "rawType": "object",
         "type": "string"
        },
        {
         "name": "Share",
         "rawType": "float64",
         "type": "float"
        }
       ],
       "conversionMethod": "pd.DataFrame",
       "ref": "f1f4e53b-afe7-4f98-b301-4dcb9aab2ef6",
       "rows": [
        [
         "Fruit",
         "245.00000000000006"
        ],
        [
         "Intestinals",
         "588.0000000000001"
        ],
        [
         "Muscle",
         "2744.0"
        ],
        [
         "RFK",
         "588.0000000000001"
        ],
        [
         "Vegetable",
         "735.0000000000002"
        ]
       ],
       "shape": {
        "columns": 1,
        "rows": 5
       }
      },
      "text/html": [
       "<div>\n",
       "<style scoped>\n",
       "    .dataframe tbody tr th:only-of-type {\n",
       "        vertical-align: middle;\n",
       "    }\n",
       "\n",
       "    .dataframe tbody tr th {\n",
       "        vertical-align: top;\n",
       "    }\n",
       "\n",
       "    .dataframe thead th {\n",
       "        text-align: right;\n",
       "    }\n",
       "</style>\n",
       "<table border=\"1\" class=\"dataframe\">\n",
       "  <thead>\n",
       "    <tr style=\"text-align: right;\">\n",
       "      <th></th>\n",
       "      <th>Share</th>\n",
       "    </tr>\n",
       "    <tr>\n",
       "      <th>Component</th>\n",
       "      <th></th>\n",
       "    </tr>\n",
       "  </thead>\n",
       "  <tbody>\n",
       "    <tr>\n",
       "      <th>Fruit</th>\n",
       "      <td>245.0</td>\n",
       "    </tr>\n",
       "    <tr>\n",
       "      <th>Intestinals</th>\n",
       "      <td>588.0</td>\n",
       "    </tr>\n",
       "    <tr>\n",
       "      <th>Muscle</th>\n",
       "      <td>2744.0</td>\n",
       "    </tr>\n",
       "    <tr>\n",
       "      <th>RFK</th>\n",
       "      <td>588.0</td>\n",
       "    </tr>\n",
       "    <tr>\n",
       "      <th>Vegetable</th>\n",
       "      <td>735.0</td>\n",
       "    </tr>\n",
       "  </tbody>\n",
       "</table>\n",
       "</div>"
      ],
      "text/plain": [
       "              Share\n",
       "Component          \n",
       "Fruit         245.0\n",
       "Intestinals   588.0\n",
       "Muscle       2744.0\n",
       "RFK           588.0\n",
       "Vegetable     735.0"
      ]
     },
     "execution_count": 522,
     "metadata": {},
     "output_type": "execute_result"
    }
   ],
   "source": [
    "demand_df"
   ]
  },
  {
   "attachments": {},
   "cell_type": "markdown",
   "id": "1c28d3ec",
   "metadata": {},
   "source": [
    "## Model\n",
    "### Symbols"
   ]
  },
  {
   "cell_type": "code",
   "execution_count": 523,
   "id": "b4729823",
   "metadata": {},
   "outputs": [],
   "source": [
    "m = Container()\n",
    "\n",
    "# Sets\n",
    "p = m.addSet('p', description='Products', records=df['Name'])\n",
    "c = m.addSet('c', description='Components', records=component_share.index)\n",
    "i = m.addSet('i', description='Intestines', records=intestinal_share_df.index)\n",
    "\n",
    "GREENS = m.addSet('GREENS', p, records=df[(df['Category'] == 'Fruits') | (df['Category'] == 'Vegetables')][['Name', 'Category']])\n",
    "FISH = m.addSet('FISH', p, records=df[df['Category'] == 'Fish'][['Name', 'Category']])\n",
    "\n",
    "# create parameters\n",
    "price = m.addParameter('price', p, records=df[['Name', 'Price']], description=\"price of product p\")\n",
    "\n",
    "volume = m.addParameter('volume', p, records=df[['Name', 'Volume']], \n",
    "                        description='volume of product p')\n",
    "\n",
    "inventory = m.addParameter('inventory', p, records=df[['Name', 'Inventory']], \n",
    "                           description='inventory of product p')\n",
    "\n",
    "fat = m.addParameter('fat', p, records=df[['Name', 'Fat']], description='fat share of product p')\n",
    "\n",
    "demand = m.addParameter('demand', c, records=demand_df.reset_index(), description='demand for each component')\n",
    "\n",
    "content_components = m.addParameter('content_components', [c, p], records=content_components_df, \n",
    "                                    description='components of product p')\n",
    "\n",
    "intestinal_components = m.addParameter('intestinal_components', [i, p], records=intest_components_df,\n",
    "                                       description='intestinal components of product p')\n",
    "\n",
    "intestinal_share = m.addParameter('intestinal_share', i, records=intestinal_share_df.reset_index(),\n",
    "                           description='intestinal share')\n",
    "\n",
    "# create scalars\n",
    "nweeks = m.addParameter('weeks', records=weeks, description=\"number of weeks\")\n",
    "weekly_demand = m.addParameter('weeklydemand', records=weeklydemand, description=\"weekly demand\")\n",
    "m.addParameter('weight', records=weight, description=\"dogs desired body weight\")\n",
    "m.addParameter('perc', records=perc, description=\"percent of body weight\")\n",
    "m.addParameter('activity', records=activity, description=\"dog activity level\")\n",
    "m.addParameter('fatlb', records=fat_lb, description=\"lower bound on fat\")\n",
    "m.addParameter('fatub', records=fat_ub, description=\"upper bound on fat\")\n",
    "m.addParameter('fish_amount', records=weekly_fish_amount, description=\"amount of fish\")\n",
    "\n",
    "# create variables\n",
    "X = m.addVariable('X', 'positive', p, description='Amount of product p')\n",
    "Y = m.addVariable('Y', 'integer', p, description='Auxiliary variable to avoid odd numbers for X')\n",
    "Z = m.addVariable('Z', 'integer', p, description='Number of packs to buy from product p')"
   ]
  },
  {
   "cell_type": "markdown",
   "id": "75c8edbb",
   "metadata": {},
   "source": [
    "### Equations"
   ]
  },
  {
   "cell_type": "code",
   "execution_count": 524,
   "id": "fbe5e8c2",
   "metadata": {},
   "outputs": [],
   "source": [
    "totalLB = Equation(m, name='totalLB', description='Minimum total quantity')\n",
    "totalUB = Equation(m, name='totalUB', description='Maximum total quantity')\n",
    "components = Equation(m, name='components', domain=[c], description='Account for the quantity of each component')\n",
    "intestines = Equation(m, name='intestines', domain=[i], description='Account for the quantity of each intestinal component')\n",
    "fish_day = Equation(m, name='fish_day', description='Include one fish day')\n",
    "fatLB = Equation(m, name='fat_lb',  description='Account for the minimal amount of fat')\n",
    "fatUB = Equation(m, name='fat_ub',  description='Account for the maximal amount of fat')\n",
    "buy = Equation(m, name='buy', domain=[p], description='Determine the number of packs to buy')\n",
    "rounding = Equation(m, name='rounding', domain=[p], description='Prohibit uneven amounts')\n",
    "# bones = Equation(m, name='bones')\n",
    "\n",
    "# objective = Sum(p, (price[p] / volume[p]) * X[p]) + Sum(p, price[p] * Z[p])\n",
    "objective = Sum(p, price[p] * Z[p])\n",
    "totalLB[...] = Sum(p, X[p]) >= 0.98 * weekly_demand * nweeks\n",
    "totalUB[...] = Sum(p, X[p]) <= 1.02 * weekly_demand * nweeks\n",
    "components[c] = Sum(p, content_components[c, p] * X[p]) >= nweeks * demand[c] - 26\n",
    "intestines[i] = Sum(p, intestinal_components[i, p] * X[p]) >= intestinal_share[i] * nweeks * demand['Intestinals']\n",
    "fish_day[...] = Sum(FISH[p], X[p]) == weekly_fish_amount * nweeks\n",
    "fatLB[...] = Sum(p, fat[p] * X[p]) >= fat_lb * Sum(p, X[p])\n",
    "fatUB[...] = Sum(p, fat[p] * X[p]) <= fat_ub * Sum(p, X[p])\n",
    "buy[p] = inventory[p] + volume[p] * Z[p] >= X[p]\n",
    "rounding[p] = X[p] == 50 * Y[p]\n",
    "# bones[...] = X['Kaninchenkarkasse'] >= 0.5 * (X['Huehnerhaelse'] + X['Huehnerkarkasse']) \n"
   ]
  },
  {
   "cell_type": "markdown",
   "id": "c84bb16a",
   "metadata": {},
   "source": [
    "You can limit specific ingredients by defining a maximum amount, e.g. ``X.up['Ochsenmaul'] = 100``, limits the amount included in the plan to 100g."
   ]
  },
  {
   "cell_type": "code",
   "execution_count": 525,
   "id": "fed8b3f3",
   "metadata": {},
   "outputs": [],
   "source": [
    "# X.up['Ochsenmaul'] = 0\n",
    "# # X.up['Huehnerherzen'] = 0\n",
    "# X.up['Huehnermuskelfleisch'] = 2000\n",
    "# X.up['Putenmuskelfleisch'] = 2000\n",
    "\n",
    "# Z.up['Pferdenackenknochen'] = 2\n",
    "# Z.up['AllesVomHuhn'] = 0\n",
    "# Z.up['AllesVomRind'] = 0\n",
    "# Z.up['Hühnerhälse'] = 0"
   ]
  },
  {
   "cell_type": "code",
   "execution_count": 526,
   "id": "8055e959",
   "metadata": {},
   "outputs": [
    {
     "data": {
      "application/vnd.microsoft.datawrangler.viewer.v0+json": {
       "columns": [
        {
         "name": "index",
         "rawType": "int64",
         "type": "integer"
        },
        {
         "name": "Solver Status",
         "rawType": "object",
         "type": "string"
        },
        {
         "name": "Model Status",
         "rawType": "object",
         "type": "string"
        },
        {
         "name": "Objective",
         "rawType": "object",
         "type": "string"
        },
        {
         "name": "Num of Equations",
         "rawType": "object",
         "type": "string"
        },
        {
         "name": "Num of Variables",
         "rawType": "object",
         "type": "string"
        },
        {
         "name": "Model Type",
         "rawType": "object",
         "type": "string"
        },
        {
         "name": "Solver",
         "rawType": "object",
         "type": "string"
        },
        {
         "name": "Solver Time",
         "rawType": "object",
         "type": "string"
        }
       ],
       "conversionMethod": "pd.DataFrame",
       "ref": "46fd6e54-afc9-471e-9ad4-28a774bd4c73",
       "rows": [
        [
         "0",
         "Normal",
         "OptimalGlobal",
         "237.55",
         "32",
         "25",
         "MIP",
         "CPLEX",
         "0.031"
        ]
       ],
       "shape": {
        "columns": 8,
        "rows": 1
       }
      },
      "text/html": [
       "<div>\n",
       "<style scoped>\n",
       "    .dataframe tbody tr th:only-of-type {\n",
       "        vertical-align: middle;\n",
       "    }\n",
       "\n",
       "    .dataframe tbody tr th {\n",
       "        vertical-align: top;\n",
       "    }\n",
       "\n",
       "    .dataframe thead th {\n",
       "        text-align: right;\n",
       "    }\n",
       "</style>\n",
       "<table border=\"1\" class=\"dataframe\">\n",
       "  <thead>\n",
       "    <tr style=\"text-align: right;\">\n",
       "      <th></th>\n",
       "      <th>Solver Status</th>\n",
       "      <th>Model Status</th>\n",
       "      <th>Objective</th>\n",
       "      <th>Num of Equations</th>\n",
       "      <th>Num of Variables</th>\n",
       "      <th>Model Type</th>\n",
       "      <th>Solver</th>\n",
       "      <th>Solver Time</th>\n",
       "    </tr>\n",
       "  </thead>\n",
       "  <tbody>\n",
       "    <tr>\n",
       "      <th>0</th>\n",
       "      <td>Normal</td>\n",
       "      <td>OptimalGlobal</td>\n",
       "      <td>237.55</td>\n",
       "      <td>32</td>\n",
       "      <td>25</td>\n",
       "      <td>MIP</td>\n",
       "      <td>CPLEX</td>\n",
       "      <td>0.031</td>\n",
       "    </tr>\n",
       "  </tbody>\n",
       "</table>\n",
       "</div>"
      ],
      "text/plain": [
       "  Solver Status   Model Status Objective Num of Equations Num of Variables  \\\n",
       "0        Normal  OptimalGlobal    237.55               32               25   \n",
       "\n",
       "  Model Type Solver Solver Time  \n",
       "0        MIP  CPLEX       0.031  "
      ]
     },
     "execution_count": 526,
     "metadata": {},
     "output_type": "execute_result"
    }
   ],
   "source": [
    "barf = Model(\n",
    "    m,\n",
    "    name=\"BARF\",\n",
    "    equations=m.getEquations(),\n",
    "    # equations=[totalLB, totalUB, components, fatLB, fatUB, rounding, buy],\n",
    "    problem=\"MIP\",\n",
    "    sense=Sense.MIN,\n",
    "    objective=objective,\n",
    ")\n",
    "\n",
    "# barf.solve(output=sys.stdout, options=Options(listing_file=\"my.lst\"), solver='cplex', solver_options={'iis': 1})\n",
    "barf.solve( \n",
    "    solver='cplex', solver_options={'iis': 1},\n",
    "    options=Options(listing_file=\"my.lst\", log_file=\"my.log\", equation_listing_limit=100, variable_listing_limit=100)\n",
    "    )\n",
    "# barf.compute_infeasibilities()\n"
   ]
  },
  {
   "attachments": {},
   "cell_type": "markdown",
   "id": "e52ca3d7",
   "metadata": {},
   "source": [
    "# Review Results\n",
    "Amount of Products"
   ]
  },
  {
   "cell_type": "code",
   "execution_count": 533,
   "id": "4f4185ad",
   "metadata": {
    "scrolled": false
   },
   "outputs": [
    {
     "data": {
      "application/vnd.microsoft.datawrangler.viewer.v0+json": {
       "columns": [
        {
         "name": "index",
         "rawType": "int64",
         "type": "integer"
        },
        {
         "name": "p",
         "rawType": "category",
         "type": "unknown"
        },
        {
         "name": "level",
         "rawType": "float64",
         "type": "float"
        }
       ],
       "conversionMethod": "pd.DataFrame",
       "ref": "8dc3f42d-1371-48c8-aa90-1384a9e49a59",
       "rows": [
        [
         "0",
         "Pferdemuskelfleisch",
         "11350.0"
        ],
        [
         "1",
         "Pferdeinnereienmix",
         "4000.0"
        ],
        [
         "3",
         "Pferdenackenknochen",
         "3650.0"
        ],
        [
         "4",
         "Pferdefett",
         "2100.0"
        ],
        [
         "5",
         "Lachs",
         "3000.0"
        ],
        [
         "6",
         "Vegetables",
         "4400.0"
        ],
        [
         "7",
         "Fruit",
         "1450.0"
        ]
       ],
       "shape": {
        "columns": 2,
        "rows": 7
       }
      },
      "text/html": [
       "<div>\n",
       "<style scoped>\n",
       "    .dataframe tbody tr th:only-of-type {\n",
       "        vertical-align: middle;\n",
       "    }\n",
       "\n",
       "    .dataframe tbody tr th {\n",
       "        vertical-align: top;\n",
       "    }\n",
       "\n",
       "    .dataframe thead th {\n",
       "        text-align: right;\n",
       "    }\n",
       "</style>\n",
       "<table border=\"1\" class=\"dataframe\">\n",
       "  <thead>\n",
       "    <tr style=\"text-align: right;\">\n",
       "      <th></th>\n",
       "      <th>p</th>\n",
       "      <th>level</th>\n",
       "    </tr>\n",
       "  </thead>\n",
       "  <tbody>\n",
       "    <tr>\n",
       "      <th>0</th>\n",
       "      <td>Pferdemuskelfleisch</td>\n",
       "      <td>11350.0</td>\n",
       "    </tr>\n",
       "    <tr>\n",
       "      <th>1</th>\n",
       "      <td>Pferdeinnereienmix</td>\n",
       "      <td>4000.0</td>\n",
       "    </tr>\n",
       "    <tr>\n",
       "      <th>3</th>\n",
       "      <td>Pferdenackenknochen</td>\n",
       "      <td>3650.0</td>\n",
       "    </tr>\n",
       "    <tr>\n",
       "      <th>4</th>\n",
       "      <td>Pferdefett</td>\n",
       "      <td>2100.0</td>\n",
       "    </tr>\n",
       "    <tr>\n",
       "      <th>5</th>\n",
       "      <td>Lachs</td>\n",
       "      <td>3000.0</td>\n",
       "    </tr>\n",
       "    <tr>\n",
       "      <th>6</th>\n",
       "      <td>Vegetables</td>\n",
       "      <td>4400.0</td>\n",
       "    </tr>\n",
       "    <tr>\n",
       "      <th>7</th>\n",
       "      <td>Fruit</td>\n",
       "      <td>1450.0</td>\n",
       "    </tr>\n",
       "  </tbody>\n",
       "</table>\n",
       "</div>"
      ],
      "text/plain": [
       "                     p    level\n",
       "0  Pferdemuskelfleisch  11350.0\n",
       "1   Pferdeinnereienmix   4000.0\n",
       "3  Pferdenackenknochen   3650.0\n",
       "4           Pferdefett   2100.0\n",
       "5                Lachs   3000.0\n",
       "6           Vegetables   4400.0\n",
       "7                Fruit   1450.0"
      ]
     },
     "execution_count": 533,
     "metadata": {},
     "output_type": "execute_result"
    }
   ],
   "source": [
    "X.l.records.loc[X.l.records['level'] > 0]"
   ]
  },
  {
   "cell_type": "markdown",
   "id": "c57b3a11",
   "metadata": {},
   "source": [
    "Number of packs to buy of product"
   ]
  },
  {
   "cell_type": "code",
   "execution_count": 530,
   "id": "1a0f62f3",
   "metadata": {},
   "outputs": [
    {
     "data": {
      "application/vnd.microsoft.datawrangler.viewer.v0+json": {
       "columns": [
        {
         "name": "index",
         "rawType": "int64",
         "type": "integer"
        },
        {
         "name": "p",
         "rawType": "category",
         "type": "unknown"
        },
        {
         "name": "level",
         "rawType": "float64",
         "type": "float"
        }
       ],
       "conversionMethod": "pd.DataFrame",
       "ref": "459276a9-842e-4819-9707-dc3619ebafad",
       "rows": [
        [
         "0",
         "Pferdemuskelfleisch",
         "12.0"
        ],
        [
         "1",
         "Pferdeinnereienmix",
         "4.0"
        ],
        [
         "3",
         "Pferdenackenknochen",
         "4.0"
        ],
        [
         "4",
         "Pferdefett",
         "4.0"
        ],
        [
         "5",
         "Lachs",
         "6.0"
        ],
        [
         "6",
         "Vegetables",
         "4400.0"
        ],
        [
         "7",
         "Fruit",
         "1450.0"
        ]
       ],
       "shape": {
        "columns": 2,
        "rows": 7
       }
      },
      "text/html": [
       "<div>\n",
       "<style scoped>\n",
       "    .dataframe tbody tr th:only-of-type {\n",
       "        vertical-align: middle;\n",
       "    }\n",
       "\n",
       "    .dataframe tbody tr th {\n",
       "        vertical-align: top;\n",
       "    }\n",
       "\n",
       "    .dataframe thead th {\n",
       "        text-align: right;\n",
       "    }\n",
       "</style>\n",
       "<table border=\"1\" class=\"dataframe\">\n",
       "  <thead>\n",
       "    <tr style=\"text-align: right;\">\n",
       "      <th></th>\n",
       "      <th>p</th>\n",
       "      <th>level</th>\n",
       "    </tr>\n",
       "  </thead>\n",
       "  <tbody>\n",
       "    <tr>\n",
       "      <th>0</th>\n",
       "      <td>Pferdemuskelfleisch</td>\n",
       "      <td>12.0</td>\n",
       "    </tr>\n",
       "    <tr>\n",
       "      <th>1</th>\n",
       "      <td>Pferdeinnereienmix</td>\n",
       "      <td>4.0</td>\n",
       "    </tr>\n",
       "    <tr>\n",
       "      <th>3</th>\n",
       "      <td>Pferdenackenknochen</td>\n",
       "      <td>4.0</td>\n",
       "    </tr>\n",
       "    <tr>\n",
       "      <th>4</th>\n",
       "      <td>Pferdefett</td>\n",
       "      <td>4.0</td>\n",
       "    </tr>\n",
       "    <tr>\n",
       "      <th>5</th>\n",
       "      <td>Lachs</td>\n",
       "      <td>6.0</td>\n",
       "    </tr>\n",
       "    <tr>\n",
       "      <th>6</th>\n",
       "      <td>Vegetables</td>\n",
       "      <td>4400.0</td>\n",
       "    </tr>\n",
       "    <tr>\n",
       "      <th>7</th>\n",
       "      <td>Fruit</td>\n",
       "      <td>1450.0</td>\n",
       "    </tr>\n",
       "  </tbody>\n",
       "</table>\n",
       "</div>"
      ],
      "text/plain": [
       "                     p   level\n",
       "0  Pferdemuskelfleisch    12.0\n",
       "1   Pferdeinnereienmix     4.0\n",
       "3  Pferdenackenknochen     4.0\n",
       "4           Pferdefett     4.0\n",
       "5                Lachs     6.0\n",
       "6           Vegetables  4400.0\n",
       "7                Fruit  1450.0"
      ]
     },
     "execution_count": 530,
     "metadata": {},
     "output_type": "execute_result"
    }
   ],
   "source": [
    "Z.l.records.loc[Z.l.records['level'] > 0]"
   ]
  },
  {
   "cell_type": "markdown",
   "id": "4735f91e",
   "metadata": {},
   "source": [
    "## BARF Ratio Statistics"
   ]
  },
  {
   "cell_type": "code",
   "execution_count": 532,
   "id": "8b0bbd80",
   "metadata": {},
   "outputs": [
    {
     "data": {
      "application/vnd.microsoft.datawrangler.viewer.v0+json": {
       "columns": [
        {
         "name": "index",
         "rawType": "int64",
         "type": "integer"
        },
        {
         "name": "Index",
         "rawType": "object",
         "type": "string"
        },
        {
         "name": "Column",
         "rawType": "float64",
         "type": "float"
        }
       ],
       "conversionMethod": "pd.DataFrame",
       "ref": "ae148341-090f-4bb4-afa5-08ca93ee90b3",
       "rows": [
        [
         "0",
         "Final Percent [%]",
         "2.04"
        ],
        [
         "1",
         "Targeted Percent [%]",
         "2.0"
        ],
        [
         "2",
         "Total Cost [€]",
         "229.18"
        ],
        [
         "3",
         "Daily Cost [€]",
         "5.46"
        ],
        [
         "4",
         "Fat [%]",
         "10.07"
        ],
        [
         "5",
         "Daily Demand [g]",
         "700.0"
        ]
       ],
       "shape": {
        "columns": 2,
        "rows": 6
       }
      },
      "text/html": [
       "<div>\n",
       "<style scoped>\n",
       "    .dataframe tbody tr th:only-of-type {\n",
       "        vertical-align: middle;\n",
       "    }\n",
       "\n",
       "    .dataframe tbody tr th {\n",
       "        vertical-align: top;\n",
       "    }\n",
       "\n",
       "    .dataframe thead th {\n",
       "        text-align: right;\n",
       "    }\n",
       "</style>\n",
       "<table border=\"1\" class=\"dataframe\">\n",
       "  <thead>\n",
       "    <tr style=\"text-align: right;\">\n",
       "      <th></th>\n",
       "      <th>Index</th>\n",
       "      <th>Column</th>\n",
       "    </tr>\n",
       "  </thead>\n",
       "  <tbody>\n",
       "    <tr>\n",
       "      <th>0</th>\n",
       "      <td>Final Percent [%]</td>\n",
       "      <td>2.04</td>\n",
       "    </tr>\n",
       "    <tr>\n",
       "      <th>1</th>\n",
       "      <td>Targeted Percent [%]</td>\n",
       "      <td>2.00</td>\n",
       "    </tr>\n",
       "    <tr>\n",
       "      <th>2</th>\n",
       "      <td>Total Cost [€]</td>\n",
       "      <td>229.18</td>\n",
       "    </tr>\n",
       "    <tr>\n",
       "      <th>3</th>\n",
       "      <td>Daily Cost [€]</td>\n",
       "      <td>5.46</td>\n",
       "    </tr>\n",
       "    <tr>\n",
       "      <th>4</th>\n",
       "      <td>Fat [%]</td>\n",
       "      <td>10.07</td>\n",
       "    </tr>\n",
       "    <tr>\n",
       "      <th>5</th>\n",
       "      <td>Daily Demand [g]</td>\n",
       "      <td>700.00</td>\n",
       "    </tr>\n",
       "  </tbody>\n",
       "</table>\n",
       "</div>"
      ],
      "text/plain": [
       "                  Index  Column\n",
       "0     Final Percent [%]    2.04\n",
       "1  Targeted Percent [%]    2.00\n",
       "2        Total Cost [€]  229.18\n",
       "3        Daily Cost [€]    5.46\n",
       "4               Fat [%]   10.07\n",
       "5      Daily Demand [g]  700.00"
      ]
     },
     "execution_count": 532,
     "metadata": {},
     "output_type": "execute_result"
    }
   ],
   "source": [
    "final_percent = X.records['level'].sum() / (7 * weeks) / (weight * 1000) * 100\n",
    "tar_percent = activity * perc * 100\n",
    "total_cost = round((X.records['level'] / 1000 * df['Price [€/kg]']).sum(), 2)\n",
    "daily_cost = total_cost / (7 * weeks)\n",
    "fat = (X.records['level'] * df['Fat']).sum() / X.records['level'].sum() * 100\n",
    "r = pd.DataFrame({\n",
    "    'Index': ['Final Percent [%]', 'Targeted Percent [%]', 'Total Cost [€]', 'Daily Cost [€]', 'Fat [%]', 'Daily Demand [g]'],\n",
    "    'Column': [final_percent, tar_percent, total_cost, daily_cost, fat, daylydemand]\n",
    "}).round(2)\n",
    "r"
   ]
  },
  {
   "cell_type": "markdown",
   "id": "f6b510e5",
   "metadata": {},
   "source": [
    "## Supplements\n",
    "Don't forget to add salt, iodine, and oil.\n",
    "\n",
    "### Salt:\n",
    "1-2 Pinches per week\n",
    "\n",
    "### Jod (Seealgenmehl/Ascophyllum nodosum):\n",
    "- [Seealgen Blog](https://www.barf-check.de/seealgen-bei-barf/)\n",
    "- [Seealgen Rechner](https://www.barf-kultur.de/Seealgenrechner)\n",
    "\n",
    "### Oil:\n",
    "- 1ml oil per 100g food (1 tee spoon = 5 ml)\n",
    "- Salmon oil, Linseed oil, and Hemp seed oil are well balanced oils\n",
    "- Stabilize oil with Vitamin E (10IE pro ml oil)\n",
    "- [Öl Blog](https://www.der-barf-blog.de/2015/11/barf-oel.html)"
   ]
  }
 ],
 "metadata": {
  "kernelspec": {
   "display_name": "Python 3",
   "language": "python",
   "name": "python3"
  },
  "language_info": {
   "codemirror_mode": {
    "name": "ipython",
    "version": 3
   },
   "file_extension": ".py",
   "mimetype": "text/x-python",
   "name": "python",
   "nbconvert_exporter": "python",
   "pygments_lexer": "ipython3",
   "version": "undefined.undefined.undefined"
  }
 },
 "nbformat": 4,
 "nbformat_minor": 5
}

{
 "cells": [
  {
   "attachments": {},
   "cell_type": "markdown",
   "id": "efc9f670",
   "metadata": {},
   "source": [
    "# BARF Plan according to Nadine Wolf - Das BARF Buch"
   ]
  },
  {
   "cell_type": "code",
   "execution_count": 1,
   "id": "d45bc7e5",
   "metadata": {
    "scrolled": true
   },
   "outputs": [],
   "source": [
    "import pandas as pd\n",
    "from gamspy import Set, Parameter, Variable, Equation, Model, Container\n",
    "from gamspy import Sum, Sense\n",
    "import BARF_class as bc"
   ]
  },
  {
   "cell_type": "markdown",
   "id": "4d73275e",
   "metadata": {},
   "source": [
    "## Data\n",
    "### Planning Horizon\n",
    "- `weeks`: number of weeks to account for"
   ]
  },
  {
   "cell_type": "code",
   "execution_count": 2,
   "id": "a3045729",
   "metadata": {},
   "outputs": [],
   "source": [
    "weeks = 6"
   ]
  },
  {
   "attachments": {},
   "cell_type": "markdown",
   "id": "e00b8e01",
   "metadata": {},
   "source": [
    "### Daily Food Demand\n",
    "The daily food demand is determined by three components: \n",
    "- body weight (`weight`)\n",
    "- base food ratio (`perc`)\n",
    "- activity level (`activity`).\n",
    "\n",
    "The body weight represents the targeted and ideal body weight of the dog. The base food ratio is usually calculated with 2% from the optimal body weight. The activity level is usually set as follows:\n",
    "\n",
    "| Activity per day | Factor |\n",
    "| --- | --- |\n",
    "| <2 h | 1 |\n",
    "| 2-3 h | 1.25 |\n",
    "| 3-4 h | 1.5 |\n",
    "| 4-5 h | 1.75 |\n",
    "| 5-6 h | 2.5 |\n",
    "| >6 h | 2.5 | \n",
    "\n",
    "A neutered dog requires less food. Usually the activity level is set to 0.9 for neutered dogs.\n",
    "\n",
    "On a side note: The activity level can vary from dog to dog. Adjust the activity level by regularly checking the body weight until you find a configuration where the dog remains around the optimal weight."
   ]
  },
  {
   "cell_type": "code",
   "execution_count": 3,
   "id": "cc6a467b",
   "metadata": {},
   "outputs": [
    {
     "name": "stdout",
     "output_type": "stream",
     "text": [
      "Daily food demand: 700 g\n",
      "Weekly food demand: 4900 g\n"
     ]
    }
   ],
   "source": [
    "weight = 35\n",
    "perc =  0.02 # percent of body weight \n",
    "activity = 1 # dog activity level \n",
    "\n",
    "daylydemand = weight * perc * activity * 1000\n",
    "weeklydemand = daylydemand * 7\n",
    "\n",
    "print('Daily food demand:', round(daylydemand), 'g')\n",
    "print('Weekly food demand:', round(weeklydemand), 'g')"
   ]
  },
  {
   "cell_type": "markdown",
   "id": "029933f3",
   "metadata": {},
   "source": [
    "### Fat\n",
    "Fat is the main energy source for a dog. The optimal amount of fat in a food ratio is between 11% and 15%."
   ]
  },
  {
   "cell_type": "code",
   "execution_count": 4,
   "id": "6084c08f",
   "metadata": {},
   "outputs": [],
   "source": [
    "fat_lb = 0.11 # lower bound of fat\n",
    "fat_ub = 0.15 # upper bound of fat"
   ]
  },
  {
   "cell_type": "markdown",
   "id": "3fd69bc3",
   "metadata": {},
   "source": [
    "### Food Components\n",
    "An optimal BARF ration withouth grain consists of 80% animal components (`Meat`) and 20% plant-based components (`Veg & Fruit`). \n"
   ]
  },
  {
   "cell_type": "code",
   "execution_count": 5,
   "id": "77044883",
   "metadata": {},
   "outputs": [],
   "source": [
    "modules_share = {\n",
    "    'Meat': 0.8,\n",
    "    'Veg & Fruit': 0.2\n",
    "}"
   ]
  },
  {
   "cell_type": "markdown",
   "id": "20970779",
   "metadata": {},
   "source": [
    "The meat share is ideally composed as:\n",
    "- 50% muscle meat\n",
    "- 20% pansen / blättermagen\n",
    "- 15% intestinals (heart, liver, kidney, spleen)\n",
    "- 15% raw flesh bones (not bare bones - rather 1/2 bone, 1/2 meat) - RFK\n",
    "\n",
    "If the dog does not tolerate pansen, you substitute with muscle meat.\n",
    "\n",
    "RFK can be hard and soft. Hard bones are, e.g., sternum and rips of lamb and cow. Soft bones are, e.g., spine, neck, and chest of chicken and rabbit. \n",
    "\n",
    "Some dogs tend to throw up bigger pieces of hard bones at night. Soft bones are easier to digest. If you only feed soft bones the RFK share is increased to 20% and the muscle share decreased to 45%. \n",
    "\n",
    "The vegtable share is ideally composed as:\n",
    "- 75% vegetables\n",
    "- 25% fruits"
   ]
  },
  {
   "cell_type": "code",
   "execution_count": 6,
   "id": "c3be7e6c",
   "metadata": {},
   "outputs": [
    {
     "data": {
      "text/html": [
       "<div>\n",
       "<style scoped>\n",
       "    .dataframe tbody tr th:only-of-type {\n",
       "        vertical-align: middle;\n",
       "    }\n",
       "\n",
       "    .dataframe tbody tr th {\n",
       "        vertical-align: top;\n",
       "    }\n",
       "\n",
       "    .dataframe thead th {\n",
       "        text-align: right;\n",
       "    }\n",
       "</style>\n",
       "<table border=\"1\" class=\"dataframe\">\n",
       "  <thead>\n",
       "    <tr style=\"text-align: right;\">\n",
       "      <th></th>\n",
       "      <th>Share</th>\n",
       "    </tr>\n",
       "    <tr>\n",
       "      <th>Component</th>\n",
       "      <th></th>\n",
       "    </tr>\n",
       "  </thead>\n",
       "  <tbody>\n",
       "    <tr>\n",
       "      <th>Muscle</th>\n",
       "      <td>1960.0</td>\n",
       "    </tr>\n",
       "    <tr>\n",
       "      <th>Intestinals</th>\n",
       "      <td>588.0</td>\n",
       "    </tr>\n",
       "    <tr>\n",
       "      <th>Pansen</th>\n",
       "      <td>784.0</td>\n",
       "    </tr>\n",
       "    <tr>\n",
       "      <th>RFK</th>\n",
       "      <td>588.0</td>\n",
       "    </tr>\n",
       "    <tr>\n",
       "      <th>Vegetable</th>\n",
       "      <td>735.0</td>\n",
       "    </tr>\n",
       "    <tr>\n",
       "      <th>Fruit</th>\n",
       "      <td>245.0</td>\n",
       "    </tr>\n",
       "  </tbody>\n",
       "</table>\n",
       "</div>"
      ],
      "text/plain": [
       "              Share\n",
       "Component          \n",
       "Muscle       1960.0\n",
       "Intestinals   588.0\n",
       "Pansen        784.0\n",
       "RFK           588.0\n",
       "Vegetable     735.0\n",
       "Fruit         245.0"
      ]
     },
     "execution_count": 6,
     "metadata": {},
     "output_type": "execute_result"
    }
   ],
   "source": [
    "component_share = pd.DataFrame([\n",
    "    ['Muscle', 0.5],\n",
    "    ['Intestinals', 0.15],\n",
    "    ['Pansen', 0.2],\n",
    "    ['RFK', 0.15],\n",
    "    ['Vegetable', 0.75],\n",
    "    ['Fruit', 0.25]\n",
    "], columns=['Component', 'Share']).set_index('Component')\n",
    "\n",
    "# check if components add up to 100%\n",
    "bc.check_components(component_share)\n",
    "\n",
    "# calc demand\n",
    "components_pie_chart, demand_df = bc.calc_demand(modules_share, component_share, weeklydemand)\n",
    "\n",
    "demand_df"
   ]
  },
  {
   "cell_type": "code",
   "execution_count": 7,
   "id": "a689539b",
   "metadata": {},
   "outputs": [
    {
     "data": {
      "text/plain": [
       "<Axes: title={'center': 'Components'}, ylabel='Share'>"
      ]
     },
     "execution_count": 7,
     "metadata": {},
     "output_type": "execute_result"
    },
    {
     "data": {
      "image/png": "[encoded data removed]",
      "text/plain": [
       "<Figure size 640x480 with 1 Axes>"
      ]
     },
     "metadata": {},
     "output_type": "display_data"
    }
   ],
   "source": [
    "# plot components\n",
    "components_pie_chart.plot(kind='pie', y='Share', title='Components', legend=False)"
   ]
  },
  {
   "cell_type": "markdown",
   "id": "eeee3241",
   "metadata": {},
   "source": [
    "### Intestinals\n",
    "The optimal composition of intestinals:\n",
    "- $\\frac{2}{5}$ liver\n",
    "- $\\frac{1}{5}$ heart\n",
    "- $\\frac{1}{5}$ kidney\n",
    "- $\\frac{1}{5}$ spleen"
   ]
  },
  {
   "cell_type": "code",
   "execution_count": 8,
   "id": "3bf52da5",
   "metadata": {},
   "outputs": [
    {
     "data": {
      "text/plain": [
       "<Axes: title={'center': 'Intestinals'}, ylabel='Share'>"
      ]
     },
     "execution_count": 8,
     "metadata": {},
     "output_type": "execute_result"
    },
    {
     "data": {
      "image/png": "[encoded data removed]",
      "text/plain": [
       "<Figure size 640x480 with 1 Axes>"
      ]
     },
     "metadata": {},
     "output_type": "display_data"
    }
   ],
   "source": [
    "intestinal_share_df = pd.DataFrame([\n",
    "    ['Liver', 2/5],\n",
    "    ['Heart', 1/5],\n",
    "    ['Kidney', 1/5],\n",
    "    ['Spleen', 1/5]\n",
    "], columns=['Intestinal', 'Share']).set_index('Intestinal')\n",
    "intestinal_share_df.plot(kind='pie', y='Share', title='Intestinals', legend=False)"
   ]
  },
  {
   "cell_type": "markdown",
   "id": "53ce93e0",
   "metadata": {},
   "source": [
    "### Fish\n",
    "Fisch ist ein wichtiger Bestandteil der BARF Ration, um den Vitamin D Haushalt zu decken. Es wird empfohlen 1x pro Woche den Muskelfleischanteil durch Fisch zu ersetzen. Dazu eignen sich insbesondere Vitamin D haltige Fische wie Sprotten, Hering, Lachs, Sardellen und Forelle. "
   ]
  },
  {
   "cell_type": "code",
   "execution_count": 9,
   "id": "eeb0d046",
   "metadata": {},
   "outputs": [
    {
     "data": {
      "text/html": [
       "<div>\n",
       "<style scoped>\n",
       "    .dataframe tbody tr th:only-of-type {\n",
       "        vertical-align: middle;\n",
       "    }\n",
       "\n",
       "    .dataframe tbody tr th {\n",
       "        vertical-align: top;\n",
       "    }\n",
       "\n",
       "    .dataframe thead th {\n",
       "        text-align: right;\n",
       "    }\n",
       "</style>\n",
       "<table border=\"1\" class=\"dataframe\">\n",
       "  <thead>\n",
       "    <tr style=\"text-align: right;\">\n",
       "      <th></th>\n",
       "      <th>Share</th>\n",
       "    </tr>\n",
       "    <tr>\n",
       "      <th>Component</th>\n",
       "      <th></th>\n",
       "    </tr>\n",
       "  </thead>\n",
       "  <tbody>\n",
       "    <tr>\n",
       "      <th>Muscle</th>\n",
       "      <td>0.50</td>\n",
       "    </tr>\n",
       "    <tr>\n",
       "      <th>Intestinals</th>\n",
       "      <td>0.15</td>\n",
       "    </tr>\n",
       "    <tr>\n",
       "      <th>Pansen</th>\n",
       "      <td>0.20</td>\n",
       "    </tr>\n",
       "    <tr>\n",
       "      <th>RFK</th>\n",
       "      <td>0.15</td>\n",
       "    </tr>\n",
       "    <tr>\n",
       "      <th>Vegetable</th>\n",
       "      <td>0.75</td>\n",
       "    </tr>\n",
       "    <tr>\n",
       "      <th>Fruit</th>\n",
       "      <td>0.25</td>\n",
       "    </tr>\n",
       "  </tbody>\n",
       "</table>\n",
       "</div>"
      ],
      "text/plain": [
       "             Share\n",
       "Component         \n",
       "Muscle        0.50\n",
       "Intestinals   0.15\n",
       "Pansen        0.20\n",
       "RFK           0.15\n",
       "Vegetable     0.75\n",
       "Fruit         0.25"
      ]
     },
     "execution_count": 9,
     "metadata": {},
     "output_type": "execute_result"
    }
   ],
   "source": [
    "component_share"
   ]
  },
  {
   "cell_type": "code",
   "execution_count": 10,
   "id": "eec36c9b",
   "metadata": {},
   "outputs": [
    {
     "name": "stdout",
     "output_type": "stream",
     "text": [
      "The suggested amount of fish per week is 560g.\n"
     ]
    }
   ],
   "source": [
    "weekly_fish_amount = round(daylydemand * modules_share['Meat'])\n",
    "print(f'The suggested amount of fish per week is {weekly_fish_amount}g.')"
   ]
  },
  {
   "cell_type": "markdown",
   "id": "ae5b563b",
   "metadata": {},
   "source": [
    "You can manually adjust the amount of fish if desired. If you do not want to feed fish, set `weekly_fish_amount` to 0. In this case, remember to substitute fish with Lebertran to supply enough vitamin D. "
   ]
  },
  {
   "cell_type": "code",
   "execution_count": 11,
   "id": "709d0dd6",
   "metadata": {},
   "outputs": [],
   "source": [
    "# adjusted fish amount\n",
    "weekly_fish_amount = 500"
   ]
  },
  {
   "cell_type": "markdown",
   "id": "9717f859",
   "metadata": {},
   "source": [
    "## Products"
   ]
  },
  {
   "cell_type": "code",
   "execution_count": 12,
   "id": "5bc7bc45",
   "metadata": {},
   "outputs": [],
   "source": [
    "products = [\n",
    "    # Pferd\n",
    "    bc.Product(name='Pferdefleisch', category='Horse', volume=500, price=3.89, muscle=1, fat=0.23),\n",
    "    bc.Product(name='PferdefleischwuerfelFettig', category='Horse', volume=2000, price=13.99, muscle=1, fat=0.254),\n",
    "    bc.Product(name='PferdefleischKlumpen', category='Horse', volume=2000, price=17.49, muscle=1, fat=0.05),\n",
    "    bc.Product(name='Pferdeherz', category='Horse', volume=500, price=4.98, heart=1, fat=0.12),\n",
    "    bc.Product(name='Pferdemilz', category='Horse', volume=500, price=5.69, spleen=1, fat=0.051),\n",
    "    bc.Product(name='Pferdeniere', category='Horse', volume=500, price=4.29, kidney=1, fat=0.085),\n",
    "    bc.Product(name='Pferdeleber', category='Horse', volume=500, price=4.29, liver=1, fat=0.04),\n",
    "    bc.Product(name='Pferdefett', category='Horse', volume=500, price=3.48, muscle=1, fat=0.91),\n",
    "    bc.Product(name='Pferdeknochenbrei', category='Horse', volume=250, price=3.19, rfk=1, fat=0.135),\n",
    "    # Rind\n",
    "    # bc.Product(name='Kalbsfleischabschnitte', category='Beef', volume=500, price=3.29, muscle=1, fat=0.35),\n",
    "    # bc.Product(name='RindfleischamStueck', category='Beef', volume=100, price=7.88, muscle=1, fat=0.12),\n",
    "    # bc.Product(name='RindfleischKlumpen', category='Beef', volume=2000, price=16.99, muscle=1, fat=0.12),\n",
    "    # bc.Product(name='Rindermuskelfleischwuerfel', category='Beef', volume=500, price=4.29, muscle=1, fat=0.09),\n",
    "    # bc.Product(name='Rinderfett', category='Beef', volume=500, price=2.98, muscle=1, fat=0.91),\n",
    "    # bc.Product(name='RinderherzKlumpen', category='Beef', volume=2000, price=10.49, heart=1, fat=0.05),\n",
    "    # bc.Product(name='Rinderherzwuerfel', category='Beef', volume=500, price=3.59, heart=1, fat=0.05),\n",
    "    # bc.Product(name='RinderniereAmStueck', category='Beef', volume=500, price=2.49, kidney=1, fat=0.085),\n",
    "    # bc.Product(name='RindermilzWuerfel', category='Beef', volume=500, price=2.39, spleen=1, fat=0.051),\n",
    "    # bc.Product(name='RinderleberAmStueck', category='Beef', volume=500, price=2.49, liver=1, fat=0.085),\n",
    "    # # bc.Product(name='RinderLeberNierenMilzMix', category='Beef', volume=500, price=2.78, liver=0.5, kidney=0.25, spleen=0.25, fat=0.039),\n",
    "    # bc.Product(name='Rinderpansen', category='Beef', volume=500, price=1.98, pansen=1, fat=0.05),\n",
    "    # bc.Product(name='Rinderblaettermagen', category='Beef', volume=500, price=2.08, pansen=1, fat=0.05),\n",
    "    # # Lamm\n",
    "    # bc.Product(name='Lammbauchlappen', category='Lamb', volume=1000, price=10.19, muscle=1, fat=0.3),\n",
    "    # bc.Product(name='Lammfleisch', category='Lamb', volume=500, price=4.38, muscle=1, fat=0.048),\n",
    "    # bc.Product(name='Lammfleischabschnitte', category='Lamb', volume=500, price=5.29, muscle=1, fat=0.15),\n",
    "    # bc.Product(name='Lammfett', category='Lamb', volume=500, price=3.98, muscle=1, fat=0.91),\n",
    "    bc.Product(name='Lammpansen', category='Lamb', volume=500, price=3.88, pansen=1, fat=0.14),\n",
    "    # bc.Product(name='LammleberStuecke', category='Lamb', volume=500, price=3.28, liver=1, fat=0.05),\n",
    "    # bc.Product(name='LammniereStuecke', category='Lamb', volume=500, price=3.78, kidney=1, fat=0.06),\n",
    "    # bc.Product(name='LammmilzStuecke', category='Lamb', volume=500, price=4.68, spleen=1, fat=0.027),\n",
    "    # # bc.Product(name='LamminnereienMix', category='Lamb', volume=250, price=2.08, heart=0.4, kidney=0.3, liver=0.3, fat=0.07),\n",
    "    # bc.Product(name='LammherzStuecke', category='Lamb', volume=500, price=4.18, heart=1, fat=0.05),\n",
    "    # # Wild\n",
    "    # bc.Product(name='WildfleischKlumpen', category='Deer', volume=2000, price=16.99, muscle=1, fat=0.16),\n",
    "    # bc.Product(name='Elchfleisch', category='Deer', volume=500, price=3.69, muscle=1, fat=0.16),\n",
    "    # # Geflügel\n",
    "    # # bc.Product(name='Truthahnfleisch', category='Chicken', volume=500, price=2.98, muscle=1, fat=0.07), # zu gewolft \n",
    "    # bc.Product(name='Haehnchenherz', category='Chicken', volume=500, price=3.49, heart=1, fat=0.05),\n",
    "    # bc.Product(name='Huehnerfett', category='Chicken',  volume=1000, price=3.69, muscle=1, fat=0.995),\n",
    "    # bc.Product(name='Huehnerfleisch', category='Chicken', volume=1000, price=8.99, muscle=1, fat=0.142),\n",
    "    # bc.Product(name='HuehnerfleischStuecke', category='Chicken', volume=500, price=3.79, muscle=1, fat=0.142),\n",
    "    # bc.Product(name='Gefluegelinnereien-Mix', category='Chicken', volume=500, price=2.98, heart=0.5, muscle=0.5, fat=0.05),\n",
    "    # # Fish\n",
    "    bc.Product(name='Lachs', category='Fish', volume=500, price=2.98, fish=1, fat=0.075),\n",
    "    # # Knochen\n",
    "    # bc.Product(name='Kaninchenkarkasse', category='Rabbit', volume=1000, price=5.49, rfk=1, fat=0.15),\n",
    "    # # bc.Product(name='Rinderbrustbein', category='Beef', volume=1000, price=3.68, rfk=1, fat=0.14),\n",
    "    # # bc.Product(name='Lammrippe', category='Lamb', volume=1000, price=6.53, rfk=1, fat=0.24),\n",
    "    # # bc.Product(name='Lammbrustbein', category='Lamb', volume=1000, price=5.78, rfk=1, fat=0.17),\n",
    "    # # bc.Product(name='Wildrippe', category='Deer', volume=1000, price=5.68, rfk=1, fat=0.24),\n",
    "    # bc.Product(name='Huehnerhaelse', category='Chicken', volume=1000, price=3.28, rfk=1, fat=0.22),\n",
    "    # bc.Product(name='SpareribsVomPferd', category='Horse', volume=1000, price=7.48, rfk=1, fat=0.16),\n",
    "    # Vegetable & Fruit\n",
    "    bc.Product(name='Vegetables', category='Vegetables', volume=1, price=0.001, vegetable=1, fat=0),\n",
    "    bc.Product(name='Fruit', category='Fruits', volume=1, price=0.001, fruit=1, fat=0)\n",
    "] \n",
    "\n",
    "df, content_components_df, intest_components_df = bc.process_products(products, component_share)"
   ]
  },
  {
   "cell_type": "markdown",
   "id": "4e48c6e1",
   "metadata": {},
   "source": [
    "## Inventory\n",
    "Account for the products you have in your inventory."
   ]
  },
  {
   "cell_type": "code",
   "execution_count": 13,
   "id": "90d1ec80",
   "metadata": {},
   "outputs": [
    {
     "data": {
      "text/html": [
       "<div>\n",
       "<style scoped>\n",
       "    .dataframe tbody tr th:only-of-type {\n",
       "        vertical-align: middle;\n",
       "    }\n",
       "\n",
       "    .dataframe tbody tr th {\n",
       "        vertical-align: top;\n",
       "    }\n",
       "\n",
       "    .dataframe thead th {\n",
       "        text-align: right;\n",
       "    }\n",
       "</style>\n",
       "<table border=\"1\" class=\"dataframe\">\n",
       "  <thead>\n",
       "    <tr style=\"text-align: right;\">\n",
       "      <th></th>\n",
       "      <th>Category</th>\n",
       "      <th>Inventory</th>\n",
       "      <th>Price [€/kg]</th>\n",
       "      <th>Price</th>\n",
       "      <th>Volume</th>\n",
       "      <th>Fat</th>\n",
       "    </tr>\n",
       "    <tr>\n",
       "      <th>Name</th>\n",
       "      <th></th>\n",
       "      <th></th>\n",
       "      <th></th>\n",
       "      <th></th>\n",
       "      <th></th>\n",
       "      <th></th>\n",
       "    </tr>\n",
       "  </thead>\n",
       "  <tbody>\n",
       "    <tr>\n",
       "      <th>Vegetables</th>\n",
       "      <td>Vegetables</td>\n",
       "      <td>0</td>\n",
       "      <td>1.00</td>\n",
       "      <td>0.001</td>\n",
       "      <td>1</td>\n",
       "      <td>0.000</td>\n",
       "    </tr>\n",
       "    <tr>\n",
       "      <th>Fruit</th>\n",
       "      <td>Fruits</td>\n",
       "      <td>0</td>\n",
       "      <td>1.00</td>\n",
       "      <td>0.001</td>\n",
       "      <td>1</td>\n",
       "      <td>0.000</td>\n",
       "    </tr>\n",
       "    <tr>\n",
       "      <th>Lachs</th>\n",
       "      <td>Fish</td>\n",
       "      <td>0</td>\n",
       "      <td>5.96</td>\n",
       "      <td>2.980</td>\n",
       "      <td>500</td>\n",
       "      <td>0.075</td>\n",
       "    </tr>\n",
       "    <tr>\n",
       "      <th>Pferdefett</th>\n",
       "      <td>Horse</td>\n",
       "      <td>0</td>\n",
       "      <td>6.96</td>\n",
       "      <td>3.480</td>\n",
       "      <td>500</td>\n",
       "      <td>0.910</td>\n",
       "    </tr>\n",
       "    <tr>\n",
       "      <th>PferdefleischwuerfelFettig</th>\n",
       "      <td>Horse</td>\n",
       "      <td>6000</td>\n",
       "      <td>7.00</td>\n",
       "      <td>13.990</td>\n",
       "      <td>2000</td>\n",
       "      <td>0.254</td>\n",
       "    </tr>\n",
       "    <tr>\n",
       "      <th>Lammpansen</th>\n",
       "      <td>Lamb</td>\n",
       "      <td>0</td>\n",
       "      <td>7.76</td>\n",
       "      <td>3.880</td>\n",
       "      <td>500</td>\n",
       "      <td>0.140</td>\n",
       "    </tr>\n",
       "    <tr>\n",
       "      <th>Pferdefleisch</th>\n",
       "      <td>Horse</td>\n",
       "      <td>0</td>\n",
       "      <td>7.78</td>\n",
       "      <td>3.890</td>\n",
       "      <td>500</td>\n",
       "      <td>0.230</td>\n",
       "    </tr>\n",
       "    <tr>\n",
       "      <th>Pferdeniere</th>\n",
       "      <td>Horse</td>\n",
       "      <td>250</td>\n",
       "      <td>8.58</td>\n",
       "      <td>4.290</td>\n",
       "      <td>500</td>\n",
       "      <td>0.085</td>\n",
       "    </tr>\n",
       "    <tr>\n",
       "      <th>Pferdeleber</th>\n",
       "      <td>Horse</td>\n",
       "      <td>0</td>\n",
       "      <td>8.58</td>\n",
       "      <td>4.290</td>\n",
       "      <td>500</td>\n",
       "      <td>0.040</td>\n",
       "    </tr>\n",
       "    <tr>\n",
       "      <th>PferdefleischKlumpen</th>\n",
       "      <td>Horse</td>\n",
       "      <td>0</td>\n",
       "      <td>8.74</td>\n",
       "      <td>17.490</td>\n",
       "      <td>2000</td>\n",
       "      <td>0.050</td>\n",
       "    </tr>\n",
       "    <tr>\n",
       "      <th>Pferdeherz</th>\n",
       "      <td>Horse</td>\n",
       "      <td>0</td>\n",
       "      <td>9.96</td>\n",
       "      <td>4.980</td>\n",
       "      <td>500</td>\n",
       "      <td>0.120</td>\n",
       "    </tr>\n",
       "    <tr>\n",
       "      <th>Pferdemilz</th>\n",
       "      <td>Horse</td>\n",
       "      <td>250</td>\n",
       "      <td>11.38</td>\n",
       "      <td>5.690</td>\n",
       "      <td>500</td>\n",
       "      <td>0.051</td>\n",
       "    </tr>\n",
       "    <tr>\n",
       "      <th>Pferdeknochenbrei</th>\n",
       "      <td>Horse</td>\n",
       "      <td>200</td>\n",
       "      <td>12.76</td>\n",
       "      <td>3.190</td>\n",
       "      <td>250</td>\n",
       "      <td>0.135</td>\n",
       "    </tr>\n",
       "  </tbody>\n",
       "</table>\n",
       "</div>"
      ],
      "text/plain": [
       "                              Category  Inventory  Price [€/kg]   Price  \\\n",
       "Name                                                                      \n",
       "Vegetables                  Vegetables          0          1.00   0.001   \n",
       "Fruit                           Fruits          0          1.00   0.001   \n",
       "Lachs                             Fish          0          5.96   2.980   \n",
       "Pferdefett                       Horse          0          6.96   3.480   \n",
       "PferdefleischwuerfelFettig       Horse       6000          7.00  13.990   \n",
       "Lammpansen                        Lamb          0          7.76   3.880   \n",
       "Pferdefleisch                    Horse          0          7.78   3.890   \n",
       "Pferdeniere                      Horse        250          8.58   4.290   \n",
       "Pferdeleber                      Horse          0          8.58   4.290   \n",
       "PferdefleischKlumpen             Horse          0          8.74  17.490   \n",
       "Pferdeherz                       Horse          0          9.96   4.980   \n",
       "Pferdemilz                       Horse        250         11.38   5.690   \n",
       "Pferdeknochenbrei                Horse        200         12.76   3.190   \n",
       "\n",
       "                            Volume    Fat  \n",
       "Name                                       \n",
       "Vegetables                       1  0.000  \n",
       "Fruit                            1  0.000  \n",
       "Lachs                          500  0.075  \n",
       "Pferdefett                     500  0.910  \n",
       "PferdefleischwuerfelFettig    2000  0.254  \n",
       "Lammpansen                     500  0.140  \n",
       "Pferdefleisch                  500  0.230  \n",
       "Pferdeniere                    500  0.085  \n",
       "Pferdeleber                    500  0.040  \n",
       "PferdefleischKlumpen          2000  0.050  \n",
       "Pferdeherz                     500  0.120  \n",
       "Pferdemilz                     500  0.051  \n",
       "Pferdeknochenbrei              250  0.135  "
      ]
     },
     "execution_count": 13,
     "metadata": {},
     "output_type": "execute_result"
    }
   ],
   "source": [
    "bc.add_inventory(df, 'PferdefleischwuerfelFettig', 3*2000)\n",
    "bc.add_inventory(df, 'Pferdeknochenbrei', 200)\n",
    "bc.add_inventory(df, 'Pferdemilz', 250)\n",
    "bc.add_inventory(df, 'Pferdeniere', 250)\n",
    "\n",
    "df.sort_values(by='Price [€/kg]').set_index('Name')"
   ]
  },
  {
   "cell_type": "markdown",
   "id": "d6e00738",
   "metadata": {},
   "source": [
    "Validate input data"
   ]
  },
  {
   "cell_type": "code",
   "execution_count": 14,
   "id": "abce2e6d",
   "metadata": {},
   "outputs": [],
   "source": [
    "assert 'Fish' in df['Category'].values, 'No fish in products'\n",
    "for c in component_share.index:\n",
    "    assert content_components_df[['Component', 'Share']].groupby('Component').sum().loc[c]['Share'] > 0, f'No {c} in products'"
   ]
  },
  {
   "attachments": {},
   "cell_type": "markdown",
   "id": "1c28d3ec",
   "metadata": {},
   "source": [
    "## Model\n",
    "### Symbols"
   ]
  },
  {
   "cell_type": "code",
   "execution_count": 15,
   "id": "b4729823",
   "metadata": {},
   "outputs": [],
   "source": [
    "m = Container()\n",
    "\n",
    "# Sets\n",
    "p = m.addSet('p', description='Products', records=df['Name'])\n",
    "c = m.addSet('c', description='Components', records=component_share.index)\n",
    "i = m.addSet('i', description='Intestinals', records=intestinal_share_df.index)\n",
    "\n",
    "GREENS = m.addSet('GREENS', p, records=df[(df['Category'] == 'Fruits') | (df['Category'] == 'Vegetables')][['Name', 'Category']])\n",
    "FISH = m.addSet('FISH', p, records=df[df['Category'] == 'Fish'][['Name', 'Category']])\n",
    "\n",
    "# create parameters\n",
    "price = m.addParameter('price', p, records=df[['Name', 'Price']], description=\"price of product p\")\n",
    "\n",
    "volume = m.addParameter('volume', p, records=df[['Name', 'Volume']], \n",
    "                        description='volume of product p')\n",
    "\n",
    "inventory = m.addParameter('inventory', p, records=df[['Name', 'Inventory']], \n",
    "                           description='inventory of product p')\n",
    "\n",
    "fat = m.addParameter('fat', p, records=df[['Name', 'Fat']], description='fat share of product p')\n",
    "\n",
    "demand = m.addParameter('demand', c, records=demand_df.reset_index(), description='demand for each component')\n",
    "\n",
    "content_components = m.addParameter('content_components', [c, p], records=content_components_df, \n",
    "                                    description='components of product p')\n",
    "\n",
    "intestinal_components = m.addParameter('intestinal_components', [i, p], records=intest_components_df,\n",
    "                                       description='intestinal components of product p')\n",
    "\n",
    "intestinal_share = m.addParameter('intestinal_share', i, records=intestinal_share_df.reset_index(),\n",
    "                           description='intestinal share')\n",
    "\n",
    "# create scalars\n",
    "m.addParameter('weeks', records=weeks, description=\"number of weeks\")\n",
    "m.addParameter('weeklydemand', records=weeklydemand, description=\"weekly demand\")\n",
    "m.addParameter('weight', records=weight, description=\"dogs desired body weight\")\n",
    "m.addParameter('perc', records=perc, description=\"percent of body weight\")\n",
    "m.addParameter('activity', records=activity, description=\"dog activity level\")\n",
    "m.addParameter('fatlb', records=fat_lb, description=\"lower bound on fat\")\n",
    "m.addParameter('fatub', records=fat_ub, description=\"upper bound on fat\")\n",
    "m.addParameter('fish_amount', records=weekly_fish_amount, description=\"amount of fish\")\n",
    "\n",
    "# create variables\n",
    "F = m.addVariable('F', description='Objective function value')\n",
    "X = m.addVariable('X', 'positive', p, description='Amount of product p')\n",
    "Y = m.addVariable('Y', 'integer', p, description='Auxiliary variable to avoid odd numbers for X')\n",
    "Z = m.addVariable('Z', 'integer', p, description='Number of packs to buy from product p')"
   ]
  },
  {
   "cell_type": "markdown",
   "id": "75c8edbb",
   "metadata": {},
   "source": [
    "### Equations"
   ]
  },
  {
   "cell_type": "markdown",
   "id": "f0700f4e",
   "metadata": {},
   "source": [
    "Ziel ist, für eine vorgegebene Anzahl an Wochen die optimale Ration an Futter für den Hund zusammenzustellen. Dabei gilt es sowohl die Gesamtmenge an Futter als auch die AufDas Ziel ist die optimale Ration an Futter für den Hund zusammenzustellen muss zunächst sichergestellt werden, dass die Gesamtfuttermenge berücksichtigt wird. Die Gesamtfuttermenge für eine Woche beträgt `weeklydemand`.  \n",
    "\n",
    "The amount of food per week has to be equal to the weekly demand"
   ]
  },
  {
   "cell_type": "code",
   "execution_count": 16,
   "id": "fbe5e8c2",
   "metadata": {},
   "outputs": [],
   "source": [
    "objective = Equation(m, name='objective', description='Objective function')\n",
    "totalLB = Equation(m, name='totalLB', description='Minimum total quantity')\n",
    "totalUB = Equation(m, name='totalUB', description='Maximum total quantity')\n",
    "components = Equation(m, name='components', domain=[c], description='Account for the quantity of each component')\n",
    "intests = Equation(m, name='intests', domain=[i], description='Account for the quantity of each intestinal component')\n",
    "fish_day = Equation(m, name='fish_day', description='Include one fish day')\n",
    "fatLB = Equation(m, name='fat_lb',  description='Account for the minimal amount of fat')\n",
    "fatUB = Equation(m, name='fat_ub',  description='Account for the maximal amount of fat')\n",
    "buy = Equation(m, name='buy', domain=[p], description='Determine the number of packs to buy')\n",
    "rounding = Equation(m, name='rounding', domain=[p], description='Prohibit uneven amounts')\n",
    "\n",
    "objective.definition = F == Sum(p, (price[p] / volume[p]) * X[p]) + Sum(p, price[p] * Z[p])\n",
    "totalLB.definition = Sum(p, X[p]) >= 0.98 * weeklydemand * weeks\n",
    "totalUB.definition = Sum(p, X[p]) <= 1.02 * weeklydemand * weeks\n",
    "components[c] = Sum(p, content_components[c, p] * X[p]) >= weeks * demand[c] - 26\n",
    "intests[i] = Sum(p, intestinal_components[i, p] * X[p]) >= intestinal_share[i] * weeks * demand['Intestinals']\n",
    "fish_day.definition = Sum(FISH[p], X[p]) == weekly_fish_amount * weeks\n",
    "fatLB.definition = Sum(p, fat[p] * X[p]) >= fat_lb * Sum(p, X[p])\n",
    "fatUB.definition = Sum(p, fat[p] * X[p]) <= fat_ub * Sum(p, X[p])\n",
    "buy[p] = inventory[p] + volume[p] * Z[p] >= X[p]\n",
    "rounding[p] = X[p] == 50 * Y[p]\n"
   ]
  },
  {
   "cell_type": "code",
   "execution_count": 17,
   "id": "8055e959",
   "metadata": {},
   "outputs": [],
   "source": [
    "barf = Model(\n",
    "    m,\n",
    "    name=\"BARF\",\n",
    "    equations=m.getEquations(),\n",
    "    problem=\"MIP\",\n",
    "    sense=Sense.MIN,\n",
    "    objective=F,\n",
    ")\n",
    "\n",
    "barf.solve()"
   ]
  },
  {
   "attachments": {},
   "cell_type": "markdown",
   "id": "e52ca3d7",
   "metadata": {},
   "source": [
    "# Review Results\n",
    "Amount of Products"
   ]
  },
  {
   "cell_type": "code",
   "execution_count": 18,
   "id": "4f4185ad",
   "metadata": {
    "scrolled": false
   },
   "outputs": [
    {
     "data": {
      "text/html": [
       "<div>\n",
       "<style scoped>\n",
       "    .dataframe tbody tr th:only-of-type {\n",
       "        vertical-align: middle;\n",
       "    }\n",
       "\n",
       "    .dataframe tbody tr th {\n",
       "        vertical-align: top;\n",
       "    }\n",
       "\n",
       "    .dataframe thead th {\n",
       "        text-align: right;\n",
       "    }\n",
       "</style>\n",
       "<table border=\"1\" class=\"dataframe\">\n",
       "  <thead>\n",
       "    <tr style=\"text-align: right;\">\n",
       "      <th></th>\n",
       "      <th>p</th>\n",
       "      <th>level</th>\n",
       "    </tr>\n",
       "  </thead>\n",
       "  <tbody>\n",
       "    <tr>\n",
       "      <th>1</th>\n",
       "      <td>PferdefleischwuerfelFettig</td>\n",
       "      <td>7850.0</td>\n",
       "    </tr>\n",
       "    <tr>\n",
       "      <th>3</th>\n",
       "      <td>Pferdeherz</td>\n",
       "      <td>750.0</td>\n",
       "    </tr>\n",
       "    <tr>\n",
       "      <th>4</th>\n",
       "      <td>Pferdemilz</td>\n",
       "      <td>750.0</td>\n",
       "    </tr>\n",
       "    <tr>\n",
       "      <th>5</th>\n",
       "      <td>Pferdeniere</td>\n",
       "      <td>750.0</td>\n",
       "    </tr>\n",
       "    <tr>\n",
       "      <th>6</th>\n",
       "      <td>Pferdeleber</td>\n",
       "      <td>1450.0</td>\n",
       "    </tr>\n",
       "    <tr>\n",
       "      <th>7</th>\n",
       "      <td>Pferdefett</td>\n",
       "      <td>900.0</td>\n",
       "    </tr>\n",
       "    <tr>\n",
       "      <th>8</th>\n",
       "      <td>Pferdeknochenbrei</td>\n",
       "      <td>3550.0</td>\n",
       "    </tr>\n",
       "    <tr>\n",
       "      <th>9</th>\n",
       "      <td>Lammpansen</td>\n",
       "      <td>4700.0</td>\n",
       "    </tr>\n",
       "    <tr>\n",
       "      <th>10</th>\n",
       "      <td>Lachs</td>\n",
       "      <td>3000.0</td>\n",
       "    </tr>\n",
       "    <tr>\n",
       "      <th>11</th>\n",
       "      <td>Vegetables</td>\n",
       "      <td>4400.0</td>\n",
       "    </tr>\n",
       "    <tr>\n",
       "      <th>12</th>\n",
       "      <td>Fruit</td>\n",
       "      <td>1450.0</td>\n",
       "    </tr>\n",
       "  </tbody>\n",
       "</table>\n",
       "</div>"
      ],
      "text/plain": [
       "                             p   level\n",
       "1   PferdefleischwuerfelFettig  7850.0\n",
       "3                   Pferdeherz   750.0\n",
       "4                   Pferdemilz   750.0\n",
       "5                  Pferdeniere   750.0\n",
       "6                  Pferdeleber  1450.0\n",
       "7                   Pferdefett   900.0\n",
       "8            Pferdeknochenbrei  3550.0\n",
       "9                   Lammpansen  4700.0\n",
       "10                       Lachs  3000.0\n",
       "11                  Vegetables  4400.0\n",
       "12                       Fruit  1450.0"
      ]
     },
     "execution_count": 18,
     "metadata": {},
     "output_type": "execute_result"
    }
   ],
   "source": [
    "X.records.loc[X.records['level'] > 1][['p', 'level']]"
   ]
  },
  {
   "cell_type": "markdown",
   "id": "c57b3a11",
   "metadata": {},
   "source": [
    "Number of packs to buy of product"
   ]
  },
  {
   "cell_type": "code",
   "execution_count": 19,
   "id": "1a0f62f3",
   "metadata": {},
   "outputs": [
    {
     "data": {
      "text/html": [
       "<div>\n",
       "<style scoped>\n",
       "    .dataframe tbody tr th:only-of-type {\n",
       "        vertical-align: middle;\n",
       "    }\n",
       "\n",
       "    .dataframe tbody tr th {\n",
       "        vertical-align: top;\n",
       "    }\n",
       "\n",
       "    .dataframe thead th {\n",
       "        text-align: right;\n",
       "    }\n",
       "</style>\n",
       "<table border=\"1\" class=\"dataframe\">\n",
       "  <thead>\n",
       "    <tr style=\"text-align: right;\">\n",
       "      <th></th>\n",
       "      <th>p</th>\n",
       "      <th>level</th>\n",
       "    </tr>\n",
       "  </thead>\n",
       "  <tbody>\n",
       "    <tr>\n",
       "      <th>1</th>\n",
       "      <td>PferdefleischwuerfelFettig</td>\n",
       "      <td>1.0</td>\n",
       "    </tr>\n",
       "    <tr>\n",
       "      <th>3</th>\n",
       "      <td>Pferdeherz</td>\n",
       "      <td>2.0</td>\n",
       "    </tr>\n",
       "    <tr>\n",
       "      <th>4</th>\n",
       "      <td>Pferdemilz</td>\n",
       "      <td>1.0</td>\n",
       "    </tr>\n",
       "    <tr>\n",
       "      <th>5</th>\n",
       "      <td>Pferdeniere</td>\n",
       "      <td>1.0</td>\n",
       "    </tr>\n",
       "    <tr>\n",
       "      <th>6</th>\n",
       "      <td>Pferdeleber</td>\n",
       "      <td>3.0</td>\n",
       "    </tr>\n",
       "    <tr>\n",
       "      <th>7</th>\n",
       "      <td>Pferdefett</td>\n",
       "      <td>2.0</td>\n",
       "    </tr>\n",
       "    <tr>\n",
       "      <th>8</th>\n",
       "      <td>Pferdeknochenbrei</td>\n",
       "      <td>14.0</td>\n",
       "    </tr>\n",
       "    <tr>\n",
       "      <th>9</th>\n",
       "      <td>Lammpansen</td>\n",
       "      <td>10.0</td>\n",
       "    </tr>\n",
       "    <tr>\n",
       "      <th>10</th>\n",
       "      <td>Lachs</td>\n",
       "      <td>6.0</td>\n",
       "    </tr>\n",
       "    <tr>\n",
       "      <th>11</th>\n",
       "      <td>Vegetables</td>\n",
       "      <td>4400.0</td>\n",
       "    </tr>\n",
       "    <tr>\n",
       "      <th>12</th>\n",
       "      <td>Fruit</td>\n",
       "      <td>1450.0</td>\n",
       "    </tr>\n",
       "  </tbody>\n",
       "</table>\n",
       "</div>"
      ],
      "text/plain": [
       "                             p   level\n",
       "1   PferdefleischwuerfelFettig     1.0\n",
       "3                   Pferdeherz     2.0\n",
       "4                   Pferdemilz     1.0\n",
       "5                  Pferdeniere     1.0\n",
       "6                  Pferdeleber     3.0\n",
       "7                   Pferdefett     2.0\n",
       "8            Pferdeknochenbrei    14.0\n",
       "9                   Lammpansen    10.0\n",
       "10                       Lachs     6.0\n",
       "11                  Vegetables  4400.0\n",
       "12                       Fruit  1450.0"
      ]
     },
     "execution_count": 19,
     "metadata": {},
     "output_type": "execute_result"
    }
   ],
   "source": [
    "Z.records.loc[Z.records['level'] > 0][['p', 'level']]"
   ]
  },
  {
   "cell_type": "markdown",
   "id": "4735f91e",
   "metadata": {},
   "source": [
    "## BARF Ratio Statistics"
   ]
  },
  {
   "cell_type": "code",
   "execution_count": 20,
   "id": "8b0bbd80",
   "metadata": {},
   "outputs": [
    {
     "data": {
      "text/html": [
       "<div>\n",
       "<style scoped>\n",
       "    .dataframe tbody tr th:only-of-type {\n",
       "        vertical-align: middle;\n",
       "    }\n",
       "\n",
       "    .dataframe tbody tr th {\n",
       "        vertical-align: top;\n",
       "    }\n",
       "\n",
       "    .dataframe thead th {\n",
       "        text-align: right;\n",
       "    }\n",
       "</style>\n",
       "<table border=\"1\" class=\"dataframe\">\n",
       "  <thead>\n",
       "    <tr style=\"text-align: right;\">\n",
       "      <th></th>\n",
       "      <th>Index</th>\n",
       "      <th>Column</th>\n",
       "    </tr>\n",
       "  </thead>\n",
       "  <tbody>\n",
       "    <tr>\n",
       "      <th>0</th>\n",
       "      <td>Final Percent [%]</td>\n",
       "      <td>2.01</td>\n",
       "    </tr>\n",
       "    <tr>\n",
       "      <th>1</th>\n",
       "      <td>Targeted Percent [%]</td>\n",
       "      <td>2.00</td>\n",
       "    </tr>\n",
       "    <tr>\n",
       "      <th>2</th>\n",
       "      <td>Total Cost [€]</td>\n",
       "      <td>201.60</td>\n",
       "    </tr>\n",
       "    <tr>\n",
       "      <th>3</th>\n",
       "      <td>Daily Cost [€]</td>\n",
       "      <td>4.80</td>\n",
       "    </tr>\n",
       "    <tr>\n",
       "      <th>4</th>\n",
       "      <td>Fat [%]</td>\n",
       "      <td>14.98</td>\n",
       "    </tr>\n",
       "    <tr>\n",
       "      <th>5</th>\n",
       "      <td>Daily Demand [g]</td>\n",
       "      <td>700.00</td>\n",
       "    </tr>\n",
       "  </tbody>\n",
       "</table>\n",
       "</div>"
      ],
      "text/plain": [
       "                  Index  Column\n",
       "0     Final Percent [%]    2.01\n",
       "1  Targeted Percent [%]    2.00\n",
       "2        Total Cost [€]  201.60\n",
       "3        Daily Cost [€]    4.80\n",
       "4               Fat [%]   14.98\n",
       "5      Daily Demand [g]  700.00"
      ]
     },
     "execution_count": 20,
     "metadata": {},
     "output_type": "execute_result"
    }
   ],
   "source": [
    "final_percent = X.records['level'].sum() / (7 * weeks) / (weight * 1000) * 100\n",
    "tar_percent = activity * perc * 100\n",
    "total_cost = round((X.records['level'] / 1000 * df['Price [€/kg]']).sum(), 2)\n",
    "daily_cost = total_cost / (7 * weeks)\n",
    "fat = (X.records['level'] * df['Fat']).sum() / X.records['level'].sum() * 100\n",
    "r = pd.DataFrame({\n",
    "    'Index': ['Final Percent [%]', 'Targeted Percent [%]', 'Total Cost [€]', 'Daily Cost [€]', 'Fat [%]', 'Daily Demand [g]'],\n",
    "    'Column': [final_percent, tar_percent, total_cost, daily_cost, fat, daylydemand]\n",
    "}).round(2)\n",
    "r"
   ]
  },
  {
   "cell_type": "markdown",
   "id": "f6b510e5",
   "metadata": {},
   "source": [
    "## Supplements\n",
    "Don't forget to add salt, iodine, and oil.\n",
    "\n",
    "### Salt:\n",
    "1-2 Pinches per week\n",
    "\n",
    "### Jod (Seealgenmehl/Ascophyllum nodosum):\n",
    "- [Seealgen Blog](https://www.barf-check.de/seealgen-bei-barf/)\n",
    "- [Seealgen Rechner](https://www.barf-kultur.de/Seealgenrechner)\n",
    "\n",
    "### Oil:\n",
    "- 1ml oil per 100g food (1 tee spoon = 5 ml)\n",
    "- Salmon oil, Linseed oil, and Hemp seed oil are well balanced oils\n",
    "- Stabilize oil with Vitamin E (10IE pro ml oil)\n",
    "- [Öl Blog](https://www.der-barf-blog.de/2015/11/barf-oel.html)"
   ]
  }
 ],
 "metadata": {
  "kernelspec": {
   "display_name": "gams",
   "language": "python",
   "name": "python3"
  },
  "language_info": {
   "codemirror_mode": {
    "name": "ipython",
    "version": 3
   },
   "file_extension": ".py",
   "mimetype": "text/x-python",
   "name": "python",
   "nbconvert_exporter": "python",
   "pygments_lexer": "ipython3",
   "version": "3.11.5"
  },
  "vscode": {
   "interpreter": {
    "hash": "8fd322cf931b5fed9987d1af19ce349b02a2bf394d0276612e1caf34f22bf640"
   }
  }
 },
 "nbformat": 4,
 "nbformat_minor": 5
}
